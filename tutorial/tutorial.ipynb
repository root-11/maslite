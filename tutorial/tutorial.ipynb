{
 "cells": [
  {
   "cell_type": "markdown",
   "metadata": {},
   "source": [
    "# MASLite tutorial: A Trio of Agent, Scheduler and Messages\n",
    "This is an interactive tutorial on MASLite, the corner stone of Dematic sim engine, which is aimed to help bring new developers up to speed quickly.\n",
    "A side note to help you understand MASLite better. There are different types of simulation modeling technique. If you come from the Simpy world, then you know that Simpy is an Process Based Modeling.\n",
    "MASLite, however, is Agent Based Modeling. Although, there is no clear boundary between one another, the two modeling techniques pivot on different mindsets.\n"
   ]
  },
  {
   "attachments": {},
   "cell_type": "markdown",
   "metadata": {},
   "source": [
    "<img src=\"figs/trio_of_agent_scheduler_and_message.png\" width=\"50%\" height=\"50%\">"
   ]
  },
  {
   "cell_type": "code",
   "execution_count": 1,
   "metadata": {
    "ExecuteTime": {
     "end_time": "2023-06-20T13:06:07.556596600Z",
     "start_time": "2023-06-20T13:06:07.509356800Z"
    }
   },
   "outputs": [],
   "source": [
    "from maslite import Agent, Scheduler, AgentMessage, AlarmRegistry\n",
    "from collections import deque\n",
    "import random"
   ]
  },
  {
   "cell_type": "markdown",
   "metadata": {},
   "source": [
    "Below is how you can create an agent,\n",
    "one thing to keep in mind is the UUID, each agent needs to have a \"universal unique identifier\", that is basically your name, SSN, or home address, those things \"legally\" define who you are.\n",
    "by default, all agents will be assigned with a UUID at initialization based on the sequence of their creation, which is an integer"
   ]
  },
  {
   "cell_type": "code",
   "execution_count": 2,
   "metadata": {},
   "outputs": [
    {
     "name": "stdout",
     "output_type": "stream",
     "text": [
      "1 2\n"
     ]
    }
   ],
   "source": [
    "agent_a = Agent()\n",
    "agent_b = Agent()\n",
    "assert isinstance(agent_a.uuid, int) and isinstance(agent_b.uuid, int), 'default uuid in maslite agent should be integer'\n",
    "assert agent_b.uuid > agent_a.uuid, 'agent_b is created after agent_a, thus it uuid should be larger'\n",
    "print(agent_a.uuid, agent_b.uuid)"
   ]
  },
  {
   "cell_type": "markdown",
   "metadata": {},
   "source": [
    "You can give an uuid to initiate an agent, as long as it is hashable"
   ]
  },
  {
   "cell_type": "code",
   "execution_count": 3,
   "metadata": {},
   "outputs": [
    {
     "name": "stdout",
     "output_type": "stream",
     "text": [
      "Agent's UUID:  James Bound\n"
     ]
    }
   ],
   "source": [
    "agent_a = Agent('James Bound')\n",
    "assert agent_a.uuid == 'James Bound', 'you can change the uuid at initialization'\n",
    "print(\"Agent's UUID: \", agent_a.uuid)"
   ]
  },
  {
   "cell_type": "markdown",
   "metadata": {},
   "source": [
    "Agent A can send Message to Agent B, message should contain sender's uuid (Agent A's uuid) and receiver's uuid (Agent B's uuid)\n",
    "However, to send the Message, Agents need the help of Scheduler\n",
    "To take advantage of Scheduler, you need to initialize it, and also register the agents to the same scheduler"
   ]
  },
  {
   "cell_type": "code",
   "execution_count": 4,
   "metadata": {},
   "outputs": [
    {
     "name": "stderr",
     "output_type": "stream",
     "text": [
      "Registering agent Agent 007\n",
      "007 subscribing to 007 on all topics.\n",
      "007 subscribing to Agent for all agents.\n",
      "Registering agent Agent 009\n",
      "009 subscribing to 009 on all topics.\n",
      "009 subscribing to Agent for all agents.\n"
     ]
    }
   ],
   "source": [
    "agent_a = Agent('007') # keep in mind we decided to call James by code number\n",
    "agent_b = Agent('009')\n",
    "scheduler = Scheduler()  # initialize the Scheduler\n",
    "scheduler.add(agent_a)  # add (register) the agent to scheduler\n",
    "scheduler.add(agent_b)  # add (register) the agent to scheduler"
   ]
  },
  {
   "cell_type": "markdown",
   "metadata": {},
   "source": [
    "Below is how you send a message,\n",
    "Just like how you send a letter in the old times\n",
    "You will need a delivery address (receiver.uuid) and a return address (sender.uuid)\n",
    "Good news is in the Kingdom of MASlitevile, the mail delivery service is free, no stamp needed!"
   ]
  },
  {
   "attachments": {},
   "cell_type": "markdown",
   "metadata": {},
   "source": [
    "<img src=\"figs/send_a_letter.jpg\" width=\"30%\" height=\"50%\">"
   ]
  },
  {
   "cell_type": "code",
   "execution_count": 5,
   "metadata": {},
   "outputs": [],
   "source": [
    "msg = AgentMessage(sender=agent_a.uuid, receiver=agent_b.uuid)"
   ]
  },
  {
   "cell_type": "markdown",
   "metadata": {},
   "source": [
    "After Agent A sends the message, Agent B does not receive that immediately.\n",
    "The message should go to Scheduler's mail_queue, which is a deque, just like the mailbox in front of the post office, in the old times"
   ]
  },
  {
   "attachments": {},
   "cell_type": "markdown",
   "metadata": {},
   "source": [
    "<img src=\"figs/old_mail_box.jpg\" width=\"20%\" height=\"20%\">"
   ]
  },
  {
   "cell_type": "code",
   "execution_count": 6,
   "metadata": {},
   "outputs": [],
   "source": [
    "agent_a.send(msg)\n",
    "assert isinstance(scheduler.mail_queue[0], AgentMessage)\n",
    "assert scheduler.mail_queue[0].sender == '007' and scheduler.mail_queue[0].receiver == '009'"
   ]
  },
  {
   "cell_type": "markdown",
   "metadata": {},
   "source": [
    "Scheduler will dispatch the message to agents via function process_mail_queue,\n",
    "the message will be delivered to inbox of Agent B.\n",
    "Note the Scheduler uses Agent uuid to find the right recipient."
   ]
  },
  {
   "attachments": {},
   "cell_type": "markdown",
   "metadata": {},
   "source": [
    "<img src=\"figs/post_dog.jpg\" width=\"20%\" height=\"20%\">"
   ]
  },
  {
   "cell_type": "code",
   "execution_count": 7,
   "metadata": {},
   "outputs": [],
   "source": [
    "assert len(agent_b.inbox) == 0\n",
    "scheduler.process_mail_queue()\n",
    "assert isinstance(agent_b.inbox[0], AgentMessage)\n",
    "assert agent_b.inbox[0].sender=='007' and agent_b.inbox[0].receiver =='009'"
   ]
  },
  {
   "cell_type": "markdown",
   "metadata": {},
   "source": [
    "now that the message has been delivered,\n",
    "Agent B needs to get the message from its inbox"
   ]
  },
  {
   "attachments": {},
   "cell_type": "markdown",
   "metadata": {},
   "source": [
    "<img src=\"figs/mail_box.jpg\" width=\"30%\" height=\"30%\">"
   ]
  },
  {
   "cell_type": "code",
   "execution_count": 8,
   "metadata": {},
   "outputs": [],
   "source": [
    "msg = agent_b.receive()\n",
    "assert msg.sender == '007' and msg.receiver == '009'\n",
    "assert len(agent_b.inbox) == 0"
   ]
  },
  {
   "cell_type": "markdown",
   "metadata": {},
   "source": [
    "Now the message has been successfully delivered from Agent A (007) to Agent B (009), but then what?\n",
    "Let us say, we want Agent B to \"laugh\" after received the message from Agent A.\n",
    "To achieve this, we need to do three things:\n",
    "1. give AgentMessage a topic, so that Agent B can recognize this specific message, see \"topic\" in agent message\n",
    "2. register the function 'laugh' in Agent B, see \"self.operations\" below\n",
    "3. After Scheduler delivered the messages to Agent B's inbox, Agent B needs to read those message one by one and react to it, see \"self.update\""
   ]
  },
  {
   "cell_type": "code",
   "execution_count": 9,
   "metadata": {},
   "outputs": [],
   "source": [
    "class TestAgent(Agent):\n",
    "\n",
    "    def __init__(self, uuid):\n",
    "        super().__init__(uuid=uuid)\n",
    "        self.operations['A funny joke'] = self.laugh\n",
    "\n",
    "    def update(self):\n",
    "        while self.messages:\n",
    "            msg = self.receive()  # you receive the msg in update\n",
    "            operation = self.operations.get(msg.topic)\n",
    "            if operation is not None:\n",
    "               operation(msg)\n",
    "            else:\n",
    "                print(f\"don't know what to do with {msg.topic}\")\n",
    "\n",
    "    def laugh(self, msg):\n",
    "        print(f\"{msg.receiver} is laughing\")\n"
   ]
  },
  {
   "cell_type": "markdown",
   "metadata": {},
   "source": [
    "Let's create two new agents and add them to a scheduler"
   ]
  },
  {
   "cell_type": "code",
   "execution_count": 10,
   "metadata": {},
   "outputs": [
    {
     "name": "stderr",
     "output_type": "stream",
     "text": [
      "Registering agent TestAgent 007\n",
      "007 subscribing to 007 on all topics.\n",
      "007 subscribing to TestAgent for all agents.\n",
      "Registering agent TestAgent 009\n",
      "009 subscribing to 009 on all topics.\n",
      "009 subscribing to TestAgent for all agents.\n"
     ]
    }
   ],
   "source": [
    "agent_a = TestAgent(uuid='007')\n",
    "agent_b = TestAgent(uuid='009')\n",
    "scheduler = Scheduler()\n",
    "scheduler.add(agent_a)\n",
    "scheduler.add(agent_b)"
   ]
  },
  {
   "cell_type": "markdown",
   "metadata": {},
   "source": [
    "Now let Agent A send a message that is \"A funny joke\" to Agent B"
   ]
  },
  {
   "cell_type": "code",
   "execution_count": 11,
   "metadata": {},
   "outputs": [
    {
     "name": "stdout",
     "output_type": "stream",
     "text": [
      "009 is laughing\n"
     ]
    }
   ],
   "source": [
    "msg = AgentMessage(sender=agent_a, receiver=agent_b, topic='A funny joke')\n",
    "agent_a.send(msg)\n",
    "scheduler.process_mail_queue()\n",
    "agent_b.update()"
   ]
  },
  {
   "cell_type": "markdown",
   "metadata": {},
   "source": [
    "See, Agent B is laughing!"
   ]
  },
  {
   "attachments": {},
   "cell_type": "markdown",
   "metadata": {},
   "source": [
    "<img src=\"figs/laugh.png\" width=\"10%\" height=\"10%\">"
   ]
  },
  {
   "cell_type": "markdown",
   "metadata": {},
   "source": [
    "What if Agent A sends something else, like a picture of a dog? or even just a bare message no topic, an empty envelope?"
   ]
  },
  {
   "cell_type": "code",
   "execution_count": 12,
   "metadata": {},
   "outputs": [
    {
     "name": "stdout",
     "output_type": "stream",
     "text": [
      "don't know what to do with A picture of a dog\n"
     ]
    }
   ],
   "source": [
    "msg = AgentMessage(sender=agent_a, receiver=agent_b, topic='A picture of a dog')\n",
    "agent_a.send(msg)\n",
    "scheduler.process_mail_queue()\n",
    "agent_b.update()"
   ]
  },
  {
   "cell_type": "code",
   "execution_count": 13,
   "metadata": {},
   "outputs": [
    {
     "name": "stdout",
     "output_type": "stream",
     "text": [
      "don't know what to do with AgentMessage\n"
     ]
    }
   ],
   "source": [
    "msg = AgentMessage(sender=agent_a, receiver=agent_b)\n",
    "agent_a.send(msg)\n",
    "scheduler.process_mail_queue()\n",
    "agent_b.update()"
   ]
  },
  {
   "cell_type": "markdown",
   "metadata": {},
   "source": [
    "See, Agent B does not know what to do with \"A picture of a dog\", why?\n",
    "Because you did not register \"A picture of a dog\" with any function in \"self.operations\".\n",
    "Now, very important thing to remember if you want a message to trigger a function of an agent:\n",
    "The message topic must be registered as the key, and the function must be registered as value in **opertaions**, which is a dictionary"
   ]
  },
  {
   "attachments": {},
   "cell_type": "markdown",
   "metadata": {},
   "source": [
    "<img src=\"figs\\message_function_pair.png\" width=\"50%\" height=\"50%\">"
   ]
  },
  {
   "cell_type": "markdown",
   "metadata": {},
   "source": [
    "if you look closely, when you don't give any topic, the printout simply says \"don't know what to do with AgentMessage\"\n",
    "Is that a coincidence that the topic is the class name?\n",
    "No! In maslite, if you don't give topic as input, then the topic will be set as class name of the message by default, see \"__init__\" of AgentMessage in maslite\n",
    "This brings us a more powerful way of sending messages, see below"
   ]
  },
  {
   "cell_type": "code",
   "execution_count": 14,
   "metadata": {},
   "outputs": [],
   "source": [
    "class Joke(AgentMessage):\n",
    "\n",
    "    def __init__(self, sender, receiver):\n",
    "        super().__init__(sender, receiver)\n",
    "\n",
    "\n",
    "class TestAgent(Agent):\n",
    "\n",
    "    def __init__(self, uuid):\n",
    "        super().__init__(uuid=uuid)\n",
    "        self.operations[Joke.__name__] = self.laugh\n",
    "\n",
    "    def update(self):\n",
    "        while self.messages:\n",
    "            msg = self.receive()\n",
    "            operation = self.operations.get(msg.topic)\n",
    "            if operation is not None:\n",
    "               operation(msg)\n",
    "            else:\n",
    "                print(f\"don't know what to do with {msg.topic}\")\n",
    "\n",
    "    def laugh(self, msg):\n",
    "        print(f\"{msg.receiver} is laughing\")\n"
   ]
  },
  {
   "cell_type": "code",
   "execution_count": 15,
   "metadata": {},
   "outputs": [
    {
     "name": "stderr",
     "output_type": "stream",
     "text": [
      "Registering agent TestAgent 007\n",
      "007 subscribing to 007 on all topics.\n",
      "007 subscribing to TestAgent for all agents.\n",
      "Registering agent TestAgent 009\n",
      "009 subscribing to 009 on all topics.\n",
      "009 subscribing to TestAgent for all agents.\n"
     ]
    }
   ],
   "source": [
    "agent_a = TestAgent(uuid='007')\n",
    "agent_b = TestAgent(uuid='009')\n",
    "scheduler = Scheduler()\n",
    "scheduler.add(agent_a)\n",
    "scheduler.add(agent_b)"
   ]
  },
  {
   "cell_type": "code",
   "execution_count": 16,
   "metadata": {},
   "outputs": [
    {
     "name": "stdout",
     "output_type": "stream",
     "text": [
      "009 is laughing\n"
     ]
    }
   ],
   "source": [
    "msg = Joke(sender=agent_a, receiver=agent_b)\n",
    "assert msg.topic == Joke.__name__\n",
    "agent_a.send(msg)\n",
    "scheduler.process_mail_queue()\n",
    "agent_b.update()"
   ]
  },
  {
   "cell_type": "markdown",
   "metadata": {},
   "source": [
    "**Take Home Question: why this method is more powerful?**"
   ]
  },
  {
   "cell_type": "markdown",
   "metadata": {},
   "source": [
    "Agent B finds the joke funny and laughed, and he wants to be nice, so thinks he should write a joke to Agent A as well.\n",
    "Agent A feels the same, then..."
   ]
  },
  {
   "cell_type": "code",
   "execution_count": 17,
   "metadata": {},
   "outputs": [],
   "source": [
    "class Joke(AgentMessage):\n",
    "\n",
    "    def __init__(self, sender, receiver):\n",
    "        super().__init__(sender, receiver)\n",
    "\n",
    "\n",
    "class TestAgent(Agent):\n",
    "\n",
    "    def __init__(self, uuid):\n",
    "        super().__init__(uuid=uuid)\n",
    "        self.operations[Joke.__name__] = self.laugh\n",
    "\n",
    "    def update(self):\n",
    "        while self.messages:\n",
    "            msg = self.receive()\n",
    "            operation = self.operations.get(msg.topic)\n",
    "            if operation is not None:\n",
    "               operation(msg)\n",
    "            else:\n",
    "                print(f\"don't know what to do with {msg.topic}\")\n",
    "\n",
    "    def laugh(self, msg):\n",
    "        print(f\"{msg.receiver} is laughing\")\n",
    "        self.send(Joke(sender=self.uuid, receiver=msg.sender))"
   ]
  },
  {
   "cell_type": "code",
   "execution_count": 18,
   "metadata": {},
   "outputs": [
    {
     "name": "stderr",
     "output_type": "stream",
     "text": [
      "Registering agent TestAgent 007\n",
      "007 subscribing to 007 on all topics.\n",
      "007 subscribing to TestAgent for all agents.\n",
      "Registering agent TestAgent 009\n",
      "009 subscribing to 009 on all topics.\n",
      "009 subscribing to TestAgent for all agents.\n"
     ]
    }
   ],
   "source": [
    "agent_a = TestAgent(uuid='007')\n",
    "agent_b = TestAgent(uuid='009')\n",
    "scheduler = Scheduler()\n",
    "scheduler.add(agent_a)\n",
    "scheduler.add(agent_b)"
   ]
  },
  {
   "cell_type": "code",
   "execution_count": 19,
   "metadata": {},
   "outputs": [
    {
     "name": "stdout",
     "output_type": "stream",
     "text": [
      "009 is laughing\n"
     ]
    }
   ],
   "source": [
    "msg = Joke(sender=agent_a, receiver=agent_b)\n",
    "agent_a.send(msg)\n",
    "scheduler.process_mail_queue()\n",
    "agent_b.update()"
   ]
  },
  {
   "cell_type": "code",
   "execution_count": 20,
   "metadata": {},
   "outputs": [
    {
     "name": "stdout",
     "output_type": "stream",
     "text": [
      "007 is laughing\n"
     ]
    }
   ],
   "source": [
    "scheduler.process_mail_queue()\n",
    "agent_a.update()"
   ]
  },
  {
   "cell_type": "code",
   "execution_count": 21,
   "metadata": {},
   "outputs": [
    {
     "name": "stdout",
     "output_type": "stream",
     "text": [
      "009 is laughing\n"
     ]
    }
   ],
   "source": [
    "scheduler.process_mail_queue()\n",
    "agent_b.update()"
   ]
  },
  {
   "cell_type": "markdown",
   "metadata": {},
   "source": [
    "Now, 007 and 009 are going to keep laughing as long as scheduler_4 is alive...\n",
    "This is the magical chain reaction!"
   ]
  },
  {
   "attachments": {},
   "cell_type": "markdown",
   "metadata": {},
   "source": [
    "<img src=\"figs/action_reaction.gif\" width=\"50%\" height=\"50%\">"
   ]
  },
  {
   "cell_type": "markdown",
   "metadata": {},
   "source": [
    "In certain cases, the whole system can be triggered by only one message"
   ]
  },
  {
   "attachments": {},
   "cell_type": "markdown",
   "metadata": {},
   "source": [
    "<img src=\"figs/dominos.gif\" width=\"30%\" height=\"30%\">"
   ]
  },
  {
   "cell_type": "markdown",
   "metadata": {},
   "source": [
    "Another trick is that an agent can send a message to its own as well!\n",
    "007 never stops laughing"
   ]
  },
  {
   "attachments": {},
   "cell_type": "markdown",
   "metadata": {},
   "source": [
    "<img src=\"figs/infinity.gif\" width=\"20%\" height=\"20%\">"
   ]
  },
  {
   "cell_type": "code",
   "execution_count": 22,
   "metadata": {},
   "outputs": [
    {
     "name": "stdout",
     "output_type": "stream",
     "text": [
      "007 is laughing\n",
      "007 is laughing\n",
      "007 is laughing\n"
     ]
    }
   ],
   "source": [
    "msg = Joke(sender=agent_a, receiver=agent_a)\n",
    "agent_a.send(msg)\n",
    "scheduler.process_mail_queue()\n",
    "agent_a.update()\n",
    "scheduler.process_mail_queue()\n",
    "agent_a.update()"
   ]
  },
  {
   "cell_type": "markdown",
   "metadata": {},
   "source": [
    "Now, the two agents are getting alone with each other, one day agents A decides to send a gift card that worth $ 20 to Agent B together with the regular jokes..."
   ]
  },
  {
   "cell_type": "code",
   "execution_count": 23,
   "metadata": {},
   "outputs": [],
   "source": [
    "class Joke(AgentMessage):\n",
    "\n",
    "    def __init__(self, sender, receiver, gift_card_dollars):\n",
    "        super().__init__(sender, receiver)\n",
    "        self.gift_card_dollars = gift_card_dollars\n",
    "\n",
    "\n",
    "class TestAgent(Agent):\n",
    "\n",
    "    def __init__(self, uuid, dollars):\n",
    "        super().__init__(uuid=uuid)\n",
    "        self.dollars = dollars\n",
    "        self.operations[Joke.__name__] = self.receive_joke\n",
    "\n",
    "    def update(self):\n",
    "        while self.messages:\n",
    "            msg = self.receive()\n",
    "            operation = self.operations.get(msg.topic)\n",
    "            if operation is not None:\n",
    "               operation(msg)\n",
    "            else:\n",
    "                print(f\"don't know what to do with {msg.topic}\")\n",
    "\n",
    "    def send_joke(self, gift_card_dollars, agent_uuid):\n",
    "        self.dollars -= gift_card_dollars\n",
    "        self.send(Joke(sender=self.uuid, receiver=agent_uuid, gift_card_dollars=gift_card_dollars))\n",
    "\n",
    "    def receive_joke(self, msg):\n",
    "        print(f\"{msg.receiver} is laughing\")\n",
    "        self.dollars += msg.gift_card_dollars\n",
    "        gift_card_dollars = random.randint(0, self.dollars)\n",
    "        self.send_joke(gift_card_dollars, msg.sender)"
   ]
  },
  {
   "cell_type": "code",
   "execution_count": 24,
   "metadata": {},
   "outputs": [
    {
     "name": "stderr",
     "output_type": "stream",
     "text": [
      "Registering agent TestAgent 007\n",
      "007 subscribing to 007 on all topics.\n",
      "007 subscribing to TestAgent for all agents.\n",
      "Registering agent TestAgent 009\n",
      "009 subscribing to 009 on all topics.\n",
      "009 subscribing to TestAgent for all agents.\n"
     ]
    }
   ],
   "source": [
    "agent_a = TestAgent(uuid='007', dollars=10000)\n",
    "agent_b = TestAgent(uuid='009', dollars=10000)\n",
    "scheduler = Scheduler()\n",
    "scheduler.add(agent_a)\n",
    "scheduler.add(agent_b)"
   ]
  },
  {
   "cell_type": "code",
   "execution_count": 25,
   "metadata": {},
   "outputs": [
    {
     "name": "stdout",
     "output_type": "stream",
     "text": [
      "009 is laughing\n"
     ]
    }
   ],
   "source": [
    "agent_a.send_joke(2000, agent_b.uuid)\n",
    "scheduler.process_mail_queue()\n",
    "agent_b.update()"
   ]
  },
  {
   "cell_type": "markdown",
   "metadata": {},
   "source": [
    "Not sure if Agent B is laughing because of the joke or money"
   ]
  },
  {
   "attachments": {},
   "cell_type": "markdown",
   "metadata": {},
   "source": [
    "<img src=\"figs/counting_money.gif\" width=\"40%\" height=\"40%\">"
   ]
  },
  {
   "cell_type": "markdown",
   "metadata": {},
   "source": [
    "Now lets check the dollars"
   ]
  },
  {
   "cell_type": "code",
   "execution_count": 26,
   "metadata": {},
   "outputs": [
    {
     "name": "stdout",
     "output_type": "stream",
     "text": [
      "007 is laughing\n"
     ]
    }
   ],
   "source": [
    "assert agent_a.dollars == 8000\n",
    "money_agent_b_sent = scheduler.mail_queue[0].gift_card_dollars\n",
    "assert agent_b.dollars == 10000 + 2000 - money_agent_b_sent\n",
    "scheduler.process_mail_queue()\n",
    "agent_a.update()\n",
    "assert agent_a.dollars == 10000 - 2000 + money_agent_b_sent - scheduler.mail_queue[0].gift_card_dollars"
   ]
  },
  {
   "cell_type": "markdown",
   "metadata": {},
   "source": [
    "Hope you learned two tricks\n",
    "1. use attributes of AgentMessage to carry important information (money, of course)\n",
    "2. pairwise receive and send functions (only if you are willing to give money back, of course)"
   ]
  },
  {
   "cell_type": "markdown",
   "metadata": {},
   "source": [
    "Now, Agent A finds herself very good at telling jokes after practicing with Agent B, she wants to start a magazine business, the magazine's name is \"50 jokes you must know\"\n",
    "Agent B's friends Agent C, D, E, F are all very interested in reading and laughing, Agent A can continue to send jokes one by one.\n",
    "But Scheduler offers another powerful service, **Broadcast**"
   ]
  },
  {
   "cell_type": "markdown",
   "metadata": {},
   "source": [
    "To create a broadcast, we need to create a broadcast message. A broadcast message is different from a direct communication message, **it has a topic and no receiver**.\n",
    "For broadcast message to work, we must implement a suitable **copy** method.\n",
    "Make sure you are copying the right thing, otherwise you will find yourself in a wierd bug"
   ]
  },
  {
   "cell_type": "code",
   "execution_count": 27,
   "metadata": {},
   "outputs": [],
   "source": [
    "class FunnyJokesMagazine(AgentMessage):\n",
    "    def __init__(self, sender, topic):\n",
    "        super().__init__(sender=sender, topic=topic)\n",
    "\n",
    "    def copy(self):\n",
    "        return FunnyJokesMagazine(sender=self.sender, topic=self.topic)\n"
   ]
  },
  {
   "cell_type": "markdown",
   "metadata": {},
   "source": [
    "Broadcasts are subscription based. Therefore, for Agent B and his friends to enjoy Agent A's magazine, each agent must subscribe first. see the **setup** function"
   ]
  },
  {
   "cell_type": "code",
   "execution_count": 28,
   "metadata": {},
   "outputs": [],
   "source": [
    "class TestAgent(Agent):\n",
    "\n",
    "    def __init__(self, uuid):\n",
    "        super().__init__(uuid=uuid)\n",
    "        self.operations[\"50 jokes you must know\"] = self.laugh\n",
    "\n",
    "    def setup(self):\n",
    "        self.subscribe(topic=\"50 jokes you must know\")\n",
    "\n",
    "    def update(self):\n",
    "        while self.messages:\n",
    "            msg = self.receive()\n",
    "            operation = self.operations.get(msg.topic)\n",
    "            if operation is not None:\n",
    "               operation(msg)\n",
    "            else:\n",
    "                print(f\"don't know what to do with {msg.topic}\")\n",
    "\n",
    "    def laugh(self, msg):\n",
    "        print(f\"Agent {self.uuid} is laughing\")"
   ]
  },
  {
   "cell_type": "code",
   "execution_count": 29,
   "metadata": {},
   "outputs": [],
   "source": [
    "agent_a = TestAgent('A')\n",
    "agent_b = TestAgent('B')\n",
    "agent_c = TestAgent('C')\n",
    "agent_d = TestAgent('D')\n",
    "agent_e = TestAgent('E')\n",
    "agent_f = TestAgent('F')"
   ]
  },
  {
   "cell_type": "code",
   "execution_count": 30,
   "metadata": {},
   "outputs": [
    {
     "name": "stderr",
     "output_type": "stream",
     "text": [
      "Registering agent TestAgent A\n",
      "A subscribing to A on all topics.\n",
      "A subscribing to TestAgent for all agents.\n",
      "A subscribing to 50 jokes you must know for all agents.\n",
      "Registering agent TestAgent B\n",
      "B subscribing to B on all topics.\n",
      "B subscribing to TestAgent for all agents.\n",
      "B subscribing to 50 jokes you must know for all agents.\n",
      "Registering agent TestAgent C\n",
      "C subscribing to C on all topics.\n",
      "C subscribing to TestAgent for all agents.\n",
      "C subscribing to 50 jokes you must know for all agents.\n",
      "Registering agent TestAgent D\n",
      "D subscribing to D on all topics.\n",
      "D subscribing to TestAgent for all agents.\n",
      "D subscribing to 50 jokes you must know for all agents.\n",
      "Registering agent TestAgent E\n",
      "E subscribing to E on all topics.\n",
      "E subscribing to TestAgent for all agents.\n",
      "E subscribing to 50 jokes you must know for all agents.\n",
      "Registering agent TestAgent F\n",
      "F subscribing to F on all topics.\n",
      "F subscribing to TestAgent for all agents.\n",
      "F subscribing to 50 jokes you must know for all agents.\n"
     ]
    }
   ],
   "source": [
    "scheduler = Scheduler()\n",
    "for agent in [agent_a, agent_b, agent_c, agent_d, agent_e, agent_f]:\n",
    "    scheduler.add(agent)"
   ]
  },
  {
   "cell_type": "code",
   "execution_count": 31,
   "metadata": {},
   "outputs": [],
   "source": [
    "msg = FunnyJokesMagazine(sender=agent_a.uuid, topic=\"50 jokes you must know\")\n",
    "agent_a.send(msg)\n",
    "scheduler.process_mail_queue()"
   ]
  },
  {
   "cell_type": "markdown",
   "metadata": {},
   "source": [
    "Now Agent B and all his friends are enjoying Agent A's funny jokes using Broadcast."
   ]
  },
  {
   "cell_type": "code",
   "execution_count": 32,
   "metadata": {},
   "outputs": [
    {
     "name": "stdout",
     "output_type": "stream",
     "text": [
      "Agent A is laughing\n",
      "Agent B is laughing\n",
      "Agent C is laughing\n",
      "Agent D is laughing\n",
      "Agent E is laughing\n",
      "Agent F is laughing\n"
     ]
    }
   ],
   "source": [
    "for agent in [agent_a, agent_b, agent_c, agent_d, agent_e, agent_f]:\n",
    "    assert isinstance(agent.inbox[0], FunnyJokesMagazine)\n",
    "    agent.update()"
   ]
  },
  {
   "cell_type": "markdown",
   "metadata": {},
   "source": [
    "Now let's understand more about the concept of default topic in AgentMessage. To understand this, consider the below scenario"
   ]
  },
  {
   "cell_type": "markdown",
   "metadata": {},
   "source": [
    "Agent A's jokes are widely popular in the Kingdom of MASlite. Majority of agents subscribed to Agent A's Joke service.\n",
    "Recently a couple of new agents have migrated from other kingdom into MASlite, and they came to know about Agent A's jokes popularity.\n",
    "There are different types of joke services (AgentMessage topic) which Agent A provides such as DailyJokes, WeeklyJokes, MonthlyTopTenJokes etc.\n",
    "New residents are confused witch joke service (AgentMessage topic) to subscribe, so Agent A recommends them to subscribe default joke service (AgentMessage with no specific topic)\n",
    "which entertains its subscribers with a new joke every Monday and this default service is free of cost.\n",
    "So the new residents happily agreed and took the default joke subscription (AgentMessage with no specific topic)."
   ]
  },
  {
   "cell_type": "code",
   "execution_count": 33,
   "metadata": {},
   "outputs": [],
   "source": [
    "class DefaultJokesService(AgentMessage):\n",
    "\n",
    "    def __init__(self, sender, topic=None):\n",
    "        super().__init__(sender, sender, topic)\n",
    "\n",
    "    def copy(self):\n",
    "        return DefaultJokesService(sender=self.sender, topic=self.topic)\n",
    "\n",
    "\n",
    "class SubscriberAgent(Agent):\n",
    "\n",
    "    def __init__(self, uuid):\n",
    "        super().__init__(uuid=uuid)\n",
    "        self.operations[DefaultJokesService.__name__] = self.thank_you\n",
    "\n",
    "    def setup(self):\n",
    "        self.subscribe(DefaultJokesService.__name__)\n",
    "\n",
    "    def update(self):\n",
    "        while self.messages:\n",
    "            msg = self.receive()\n",
    "            operation = self.operations.get(msg.topic)\n",
    "            if operation is not None:\n",
    "               operation(msg)\n",
    "            else:\n",
    "                print(f\"don't know what to do with {msg.topic}\")\n",
    "\n",
    "    def thank_you(self, msg):\n",
    "        print(f\"Thank you Agent {msg.sender}, this is funny! I want to subscribe to more jokes\")\n",
    "        self.subscribe(\"50 funny jokes you should know\")\n",
    "        self.operations[\"50 funny jokes you should know\"] = self.laugh\n",
    "        \n",
    "    def laugh(self, msg):\n",
    "        print(f\"Agent {self.uuid} is laughing\")\n"
   ]
  },
  {
   "cell_type": "code",
   "execution_count": 34,
   "metadata": {},
   "outputs": [],
   "source": [
    "agent_a = Agent('A')\n",
    "agent_x = SubscriberAgent('New X')\n",
    "agent_y = SubscriberAgent('New Y')\n",
    "agent_z = SubscriberAgent('New Z')"
   ]
  },
  {
   "cell_type": "code",
   "execution_count": 35,
   "metadata": {},
   "outputs": [
    {
     "name": "stderr",
     "output_type": "stream",
     "text": [
      "Registering agent Agent A\n",
      "A subscribing to A on all topics.\n",
      "A subscribing to Agent for all agents.\n",
      "Registering agent SubscriberAgent New X\n",
      "New X subscribing to New X on all topics.\n",
      "New X subscribing to SubscriberAgent for all agents.\n",
      "New X subscribing to DefaultJokesService on all topics.\n",
      "Registering agent SubscriberAgent New Y\n",
      "New Y subscribing to New Y on all topics.\n",
      "New Y subscribing to SubscriberAgent for all agents.\n",
      "New Y subscribing to DefaultJokesService on all topics.\n",
      "Registering agent SubscriberAgent New Z\n",
      "New Z subscribing to New Z on all topics.\n",
      "New Z subscribing to SubscriberAgent for all agents.\n",
      "New Z subscribing to DefaultJokesService on all topics.\n"
     ]
    }
   ],
   "source": [
    "scheduler = Scheduler()\n",
    "for agent in [agent_a, agent_x, agent_y, agent_z]:\n",
    "    scheduler.add(agent)"
   ]
  },
  {
   "cell_type": "markdown",
   "metadata": {},
   "source": [
    "If Agent A sends \"50 funny jokes you should know\" as the topic of DefaultJokesService, then none of the newly migrated people would receive anything."
   ]
  },
  {
   "cell_type": "code",
   "execution_count": 36,
   "metadata": {},
   "outputs": [
    {
     "name": "stdout",
     "output_type": "stream",
     "text": [
      "50 funny jokes you should know\n"
     ]
    }
   ],
   "source": [
    "msg = DefaultJokesService(sender=agent_a.uuid, topic = '50 funny jokes you should know')\n",
    "print(msg.topic)\n",
    "agent_a.send(msg)\n",
    "scheduler.process_mail_queue()\n",
    "for agent in [agent_x, agent_y, agent_z]:\n",
    "    assert len(agent.inbox) == 0"
   ]
  },
  {
   "cell_type": "markdown",
   "metadata": {},
   "source": [
    "If Agent A does not include \"50 funny jokes you should know\" as the topic of DefaultJokesService, then all of the newly migrated people would receive that, and laugh, and decide to subscribe to Agent A's 50 funny jokes you should know"
   ]
  },
  {
   "cell_type": "code",
   "execution_count": 37,
   "metadata": {},
   "outputs": [
    {
     "name": "stderr",
     "output_type": "stream",
     "text": [
      "New X subscribing to 50 funny jokes you should know on all topics.\n",
      "New Y subscribing to 50 funny jokes you should know on all topics.\n",
      "New Z subscribing to 50 funny jokes you should know on all topics.\n"
     ]
    },
    {
     "name": "stdout",
     "output_type": "stream",
     "text": [
      "DefaultJokesService\n",
      "Thank you Agent A, this is funny! I want to subscribe to more jokes\n",
      "Thank you Agent A, this is funny! I want to subscribe to more jokes\n",
      "Thank you Agent A, this is funny! I want to subscribe to more jokes\n"
     ]
    }
   ],
   "source": [
    "msg = DefaultJokesService(sender=agent_a.uuid)\n",
    "print(msg.topic)\n",
    "agent_a.send(msg)\n",
    "scheduler.process_mail_queue()\n",
    "for agent in [agent_x, agent_y, agent_z]:\n",
    "    agent.update()"
   ]
  },
  {
   "cell_type": "markdown",
   "metadata": {},
   "source": [
    "Now if agent sends '50 funny jokes you should know', they will laugh"
   ]
  },
  {
   "cell_type": "code",
   "execution_count": 38,
   "metadata": {},
   "outputs": [
    {
     "name": "stdout",
     "output_type": "stream",
     "text": [
      "50 funny jokes you should know\n",
      "Agent New X is laughing\n",
      "Agent New Y is laughing\n",
      "Agent New Z is laughing\n"
     ]
    }
   ],
   "source": [
    "msg = DefaultJokesService(sender=agent_a.uuid, topic='50 funny jokes you should know')\n",
    "print(msg.topic)\n",
    "agent_a.send(msg)\n",
    "scheduler.process_mail_queue()\n",
    "for agent in [agent_x, agent_y, agent_z]:\n",
    "    agent.update()"
   ]
  },
  {
   "cell_type": "markdown",
   "metadata": {},
   "source": [
    "**remember the importance of topic in the agent message**"
   ]
  },
  {
   "cell_type": "markdown",
   "metadata": {},
   "source": [
    "Time flies, and it is the year **1984** for Maslite Kingdom...\n",
    "The residents are reading jokes, however, big brother is watching..."
   ]
  },
  {
   "attachments": {},
   "cell_type": "markdown",
   "metadata": {},
   "source": [
    "<img src=\"figs/1984.jpg\" width=\"25%\" height=\"25%\">"
   ]
  },
  {
   "cell_type": "code",
   "execution_count": 39,
   "metadata": {},
   "outputs": [],
   "source": [
    "class Joke(AgentMessage):\n",
    "\n",
    "    def __init__(self, sender, receiver):\n",
    "        super().__init__(sender, receiver)\n",
    "\n",
    "    def copy(self):\n",
    "        return Joke(self.sender, self.receiver)\n",
    "\n",
    "\n",
    "class TestAgent(Agent):\n",
    "\n",
    "    def __init__(self, uuid):\n",
    "        super().__init__(uuid=uuid)\n",
    "        self.operations[Joke.__name__] = self.laugh\n",
    "\n",
    "    def update(self):\n",
    "        while self.messages:\n",
    "            msg = self.receive()\n",
    "            operation = self.operations.get(msg.topic)\n",
    "            if operation is not None:\n",
    "               operation(msg)\n",
    "            else:\n",
    "                print(f\"don't know what to do with {msg.topic}\")\n",
    "\n",
    "    def laugh(self, msg):\n",
    "        print(f\"{msg.receiver} is laughing\")\n",
    "\n",
    "\n",
    "class BigBrother(Agent):\n",
    "\n",
    "    def __init__(self, uuid):\n",
    "        super().__init__(uuid=uuid)\n",
    "        self.operations[Joke.__name__] = self.read\n",
    "\n",
    "    def setup(self):\n",
    "        self.subscribe(Joke.__name__)\n",
    "\n",
    "    def update(self):\n",
    "        while self.messages:\n",
    "            msg = self.receive()\n",
    "            operation = self.operations.get(msg.topic)\n",
    "            if operation is not None:\n",
    "               operation(msg)\n",
    "            else:\n",
    "                print(f\"don't know what to do with {msg.topic}\")\n",
    "\n",
    "    def read(self, msg):\n",
    "        print(f\"{self.uuid} says to {msg.sender} and {msg.receiver}: Big Brother is watching you!\")\n"
   ]
  },
  {
   "cell_type": "code",
   "execution_count": 40,
   "metadata": {},
   "outputs": [
    {
     "name": "stderr",
     "output_type": "stream",
     "text": [
      "Registering agent TestAgent 007\n",
      "007 subscribing to 007 on all topics.\n",
      "007 subscribing to TestAgent for all agents.\n",
      "Registering agent TestAgent 009\n",
      "009 subscribing to 009 on all topics.\n",
      "009 subscribing to TestAgent for all agents.\n",
      "Registering agent BigBrother KGB\n",
      "KGB subscribing to KGB on all topics.\n",
      "KGB subscribing to BigBrother for all agents.\n",
      "KGB subscribing to Joke on all topics.\n"
     ]
    }
   ],
   "source": [
    "agent_a = TestAgent(uuid='007')\n",
    "agent_b = TestAgent(uuid='009')\n",
    "agent_c = BigBrother(uuid='KGB')\n",
    "scheduler = Scheduler()\n",
    "scheduler.add(agent_a)\n",
    "scheduler.add(agent_b)\n",
    "scheduler.add(agent_c)"
   ]
  },
  {
   "cell_type": "code",
   "execution_count": 41,
   "metadata": {},
   "outputs": [
    {
     "name": "stdout",
     "output_type": "stream",
     "text": [
      "009 is laughing\n",
      "KGB says to 007 and 009: Big Brother is watching you!\n"
     ]
    }
   ],
   "source": [
    "msg = Joke(sender=agent_a.uuid, receiver=agent_b.uuid)\n",
    "agent_a.send(msg)\n",
    "scheduler.process_mail_queue()\n",
    "for agent in scheduler.agents.values():\n",
    "    agent.update()"
   ]
  },
  {
   "cell_type": "markdown",
   "metadata": {},
   "source": [
    "Maslite has a hidden feature, an agent can subscribe to the \"private\" message between other agents without the consent of the designated sender and receiver"
   ]
  },
  {
   "attachments": {},
   "cell_type": "markdown",
   "metadata": {},
   "source": [
    "<img src=\"figs/fear.png\" width=\"5%\" height=\"5%\">"
   ]
  },
  {
   "cell_type": "markdown",
   "metadata": {},
   "source": [
    "Now we covered the basics of what you should master in maslite, let us go pro!\n",
    "It seems what we have seen so far happens all at once, and to run a simulation, we missed a very important concept **Time**"
   ]
  },
  {
   "attachments": {},
   "cell_type": "markdown",
   "metadata": {},
   "source": [
    "<img src=\"figs/quote_about_time.png\" width=\"40%\" height=\"40%\">"
   ]
  },
  {
   "cell_type": "markdown",
   "metadata": {},
   "source": [
    "**How does time flow in the kingdom of MASlite?** AKA **How does MASlite advance the clock for simulation?**\n",
    "set alarm!"
   ]
  },
  {
   "attachments": {},
   "cell_type": "markdown",
   "metadata": {},
   "source": [
    "<img src=\"figs/alarm.gif\" width=\"20%\" height=\"20%\">"
   ]
  },
  {
   "cell_type": "markdown",
   "metadata": {},
   "source": [
    "To understand the concept of set_alarm in MASlite, let's consider the following scenario.\n",
    "Agent A is giving amazon coupon (10 - 100) dollars to all his **PopularJokesMagazine** subscribers during the summer sale in MASlite Kingdom.\n",
    "The coupon is sent to the subscribers 5 seconds after they receive the magazine.\n",
    "Don't ask how Agent A how does she do the timing so accurate, it is in MASlite Kingdom, ask the king."
   ]
  },
  {
   "cell_type": "code",
   "execution_count": 42,
   "metadata": {},
   "outputs": [],
   "source": [
    "class PopularJokesMagazine(AgentMessage):\n",
    "\n",
    "    def __init__(self, sender, receiver, topic=None):\n",
    "        super().__init__(sender, receiver, topic)\n",
    "\n",
    "\n",
    "class TwentyDollarCoupon(AgentMessage):\n",
    "\n",
    "    def __init__(self, sender, receiver, topic=None):\n",
    "        super().__init__(sender, receiver, topic)\n",
    "        self.coupon = random.randint(10, 100)\n",
    "\n",
    "\n",
    "class TestAgent(Agent):\n",
    "\n",
    "    def __init__(self, uuid, coupon_cnt=0, coupon_val=0):\n",
    "        super().__init__(uuid=uuid)\n",
    "        self.coupon_cnt = coupon_cnt\n",
    "        self.coupon_val = coupon_val\n",
    "        self.operations[PopularJokesMagazine.__name__] = self.thank_you\n",
    "        self.operations[TwentyDollarCoupon.__name__] = self.coupon_received\n",
    "\n",
    "    def update(self):\n",
    "        while self.messages:\n",
    "            msg = self.receive()\n",
    "            operation = self.operations.get(msg.topic)\n",
    "            if operation is not None:\n",
    "               operation(msg)\n",
    "            else:\n",
    "                print(f\"don't know what to do with {msg.topic}\")\n",
    "\n",
    "    def thank_you(self, msg):\n",
    "        print(f\"Thank you Agent {msg.sender}, looking forward to your jokes and our coupon.\")\n",
    "\n",
    "    def coupon_received(self, msg):\n",
    "        self.coupon_val = msg.coupon\n",
    "        self.coupon_cnt += 1\n",
    "        print(f\"Thank you, I have received my ${self.coupon_val} coupon, now I have {self.coupon_cnt} coupons\")"
   ]
  },
  {
   "cell_type": "markdown",
   "metadata": {},
   "source": [
    "**Note that scheduler uses real time by default**"
   ]
  },
  {
   "cell_type": "code",
   "execution_count": 43,
   "metadata": {},
   "outputs": [
    {
     "name": "stderr",
     "output_type": "stream",
     "text": [
      "Registering agent TestAgent A\n",
      "A subscribing to A on all topics.\n",
      "A subscribing to TestAgent for all agents.\n",
      "Registering agent TestAgent B\n",
      "B subscribing to B on all topics.\n",
      "B subscribing to TestAgent for all agents.\n",
      "Registering agent TestAgent C\n",
      "C subscribing to C on all topics.\n",
      "C subscribing to TestAgent for all agents.\n",
      "Registering agent TestAgent D\n",
      "D subscribing to D on all topics.\n",
      "D subscribing to TestAgent for all agents.\n"
     ]
    }
   ],
   "source": [
    "agent_a = TestAgent('A')\n",
    "agent_b = TestAgent('B')\n",
    "agent_c = TestAgent('C')\n",
    "agent_d = TestAgent('D')\n",
    "scheduler = Scheduler(real_time=False)\n",
    "for agent in [agent_a, agent_b, agent_c, agent_d]:\n",
    "    scheduler.add(agent)"
   ]
  },
  {
   "cell_type": "markdown",
   "metadata": {},
   "source": [
    "We can interpret the alarm as a message to the future receiver, or a pre-defined fate to an agent in the Kingdom of Maslite..."
   ]
  },
  {
   "attachments": {},
   "cell_type": "markdown",
   "metadata": {},
   "source": [
    "<img src=\"figs/message_to_future_self.jpg\" width=\"25%\" height=\"25%\">"
   ]
  },
  {
   "cell_type": "markdown",
   "metadata": {},
   "source": [
    "in another word, the agent will receive such message in the future, after \"alarm_time\" (check the function **set_alarm**).\n",
    "But where is the alarm message when you set it?\n",
    "As we did not see it in the mail queue for sure. And the mail queue only contains the message that needs to be sent at current time"
   ]
  },
  {
   "cell_type": "code",
   "execution_count": 44,
   "metadata": {},
   "outputs": [],
   "source": [
    "msg = PopularJokesMagazine(sender=agent_a.uuid, receiver=agent_b.uuid)\n",
    "agent_a.send(msg)\n",
    "agent_a.set_alarm(alarm_time=5, alarm_message=TwentyDollarCoupon(sender=agent_a.uuid, receiver=agent_b.uuid)) # ignore_alarm_if_idle=False\n",
    "assert len(scheduler.mail_queue) == 1\n",
    "assert isinstance(scheduler.mail_queue[0], PopularJokesMagazine)"
   ]
  },
  {
   "cell_type": "markdown",
   "metadata": {},
   "source": [
    "In the clock of Scheduler, there is an attribute called \"registry\", which is a dictionary.\n",
    "It contains the receiver's uuid as the key, and an object called \"AlarmRegistry\".\n",
    "The AlarmRegistry has an attribute \"alarm\" which is also a dictionary.\n",
    "It contains the alarm time and a list of messages that such receiver should receive"
   ]
  },
  {
   "cell_type": "code",
   "execution_count": 45,
   "metadata": {},
   "outputs": [],
   "source": [
    "assert isinstance(scheduler.clock.registry, dict)\n",
    "assert agent_b.uuid in scheduler.clock.registry\n",
    "assert isinstance(scheduler.clock.registry[agent_b.uuid], AlarmRegistry)\n",
    "alarm_registry = scheduler.clock.registry[agent_b.uuid]\n",
    "assert isinstance(alarm_registry.alarms, dict)\n",
    "assert 5 in alarm_registry.alarms\n",
    "list_of_messages_to_send_at_5_sec = alarm_registry.alarms[5]\n",
    "assert isinstance(list_of_messages_to_send_at_5_sec[0], TwentyDollarCoupon)\n",
    "assert len(list_of_messages_to_send_at_5_sec) == 1"
   ]
  },
  {
   "cell_type": "markdown",
   "metadata": {},
   "source": [
    "Now, shall we move the clock forward?\n",
    "Tick Tock"
   ]
  },
  {
   "attachments": {},
   "cell_type": "markdown",
   "metadata": {},
   "source": [
    "<img src=\"figs/clock_tick_tock.gif\" width=\"25%\" height=\"25%\">"
   ]
  },
  {
   "cell_type": "code",
   "execution_count": 46,
   "metadata": {},
   "outputs": [
    {
     "name": "stdout",
     "output_type": "stream",
     "text": [
      "0\n",
      "0\n"
     ]
    }
   ],
   "source": [
    "print(scheduler.clock.time)\n",
    "scheduler.clock.tick()\n",
    "print(scheduler.clock.time)"
   ]
  },
  {
   "cell_type": "markdown",
   "metadata": {},
   "source": [
    "Wait a second, why the clock cannot move forward?\n",
    "Because you are not done at time 0, you still have message to deliver!"
   ]
  },
  {
   "cell_type": "code",
   "execution_count": 47,
   "metadata": {},
   "outputs": [
    {
     "name": "stdout",
     "output_type": "stream",
     "text": [
      "Thank you Agent A, looking forward to your jokes and our coupon.\n"
     ]
    }
   ],
   "source": [
    "scheduler.process_mail_queue()\n",
    "agent_b.update()\n",
    "assert len(scheduler.mail_queue) == 0"
   ]
  },
  {
   "cell_type": "code",
   "execution_count": 48,
   "metadata": {},
   "outputs": [
    {
     "name": "stdout",
     "output_type": "stream",
     "text": [
      "0\n",
      "0\n"
     ]
    }
   ],
   "source": [
    "print(scheduler.clock.time)\n",
    "scheduler.clock.tick()\n",
    "print(scheduler.clock.time)"
   ]
  },
  {
   "cell_type": "markdown",
   "metadata": {},
   "source": [
    "Wait a second, why the clock still cannot move forward?\n",
    "Because you still have agents that needs update!\n",
    "Wait a second, we just updated agent \"B\"!\n",
    "Because when scheduler \"add\" an agent at the beginning, it added the agent to “needs_update\" by default, and you should clear that attribute after you have done with the update\n",
    "**Take Home Question, why does scheduler needs to do that?**"
   ]
  },
  {
   "cell_type": "code",
   "execution_count": 49,
   "metadata": {},
   "outputs": [
    {
     "name": "stdout",
     "output_type": "stream",
     "text": [
      "0\n",
      "5\n"
     ]
    }
   ],
   "source": [
    "assert scheduler.needs_update == {'A', 'B', 'C', 'D'}\n",
    "scheduler.needs_update.clear()\n",
    "print(scheduler.clock.time)\n",
    "scheduler.clock.tick()\n",
    "print(scheduler.clock.time)"
   ]
  },
  {
   "cell_type": "markdown",
   "metadata": {},
   "source": [
    "The clock finally moves!\n",
    "Now the time is at 5, would agent_b get his coupon as what agent a planned?\n",
    "Not yet, the message is still stored in the alarm registry, remember? We need to release them."
   ]
  },
  {
   "cell_type": "code",
   "execution_count": 50,
   "metadata": {},
   "outputs": [],
   "source": [
    "assert len(scheduler.mail_queue) == 0\n",
    "scheduler.clock.release_alarm_messages()\n",
    "assert len(scheduler.mail_queue) == 1\n",
    "assert isinstance(scheduler.mail_queue[0], TwentyDollarCoupon)"
   ]
  },
  {
   "cell_type": "markdown",
   "metadata": {},
   "source": [
    "Now the message is in the mail queue, the scheduler just need to dispatch the message and the agent needs to update it"
   ]
  },
  {
   "cell_type": "code",
   "execution_count": 51,
   "metadata": {},
   "outputs": [
    {
     "name": "stdout",
     "output_type": "stream",
     "text": [
      "Thank you, I have received my $95 coupon, now I have 1 coupons\n"
     ]
    }
   ],
   "source": [
    "scheduler.process_mail_queue()\n",
    "agent_b.update()"
   ]
  },
  {
   "cell_type": "markdown",
   "metadata": {},
   "source": [
    "Let us have a deep dive in how MASLite Scheduler handles multiple alarms, and how the event are \"scheduled\".\n",
    "Let us think a scenario more similar to nuclear fission.\n",
    "We create a TestAgent (think this as a neutron), and a TestMessage (think this as an atom). \n",
    "Whenever the TestAgent (atom) receives a TestMessage (neutron), such agent will randomly select agents (including itself, not very scientific, I know) and set an alarm with TestMessage random alarm time (minimum 0, maximum 5) for random times (minimum 0, maximum 3)"
   ]
  },
  {
   "cell_type": "code",
   "execution_count": 52,
   "metadata": {
    "ExecuteTime": {
     "end_time": "2023-06-20T13:59:42.471121600Z",
     "start_time": "2023-06-20T13:59:42.276348500Z"
    }
   },
   "outputs": [],
   "source": [
    "class TestMessage(AgentMessage):\n",
    "    \n",
    "    def __init__(self, sender, receiver, created_time, scheduled_alarm_time):\n",
    "        super().__init__(sender, receiver)\n",
    "        self.created_time = created_time\n",
    "        self.scheduled_alarm_time = scheduled_alarm_time\n",
    "    \n",
    "    def __repr__(self):\n",
    "        return f'From {self.sender} to {self.receiver}, created at {self.created_time}, scheduled alarm time {self.scheduled_alarm_time}'\n",
    "    \n",
    "    def __str__(self):\n",
    "         return f'From {self.sender} to {self.receiver}, created at {self.created_time}, scheduled alarm time {self.scheduled_alarm_time}'\n",
    "        \n",
    "class TestAgent(Agent):\n",
    "    \n",
    "    agents = []\n",
    "    \n",
    "    def __init__(self, uuid):\n",
    "        super().__init__(uuid=uuid)\n",
    "        assert uuid not in TestAgent.agents, \"cannot have duplicated uuid\"\n",
    "        TestAgent.agents.append(uuid)\n",
    "        self.operations[TestMessage.__name__] = self.receive_test_message\n",
    "\n",
    "    def update(self):\n",
    "        while self.messages:\n",
    "            msg = self.receive()\n",
    "            operation = self.operations.get(msg.topic)\n",
    "            operation(msg)\n",
    "\n",
    "    def receive_test_message(self, msg):\n",
    "        number_of_alarms = random.randint(0, 3) # randomly decide how many alarm message to send, maximum 3, minimum 0\n",
    "        print(f\"Agent {self.uuid} receives alarm {str(msg)}, decides to set {number_of_alarms} alarms\")\n",
    "        for _ in range(number_of_alarms):\n",
    "            agent_to_receive_alarm = TestAgent.agents[random.randint(0, len(TestAgent.agents) - 1)] # randomly select an agent to receive the alarm\n",
    "            alarm_time = random.randint(0, 5) # randomly decide what the alarm time should be\n",
    "            self.set_alarm(alarm_time, TestMessage(self.uuid, agent_to_receive_alarm, \n",
    "                                                   self._scheduler_api.clock.time, alarm_time))\n",
    "            print(f'An alarm has been set by Agent {self.uuid} at t = {self._scheduler_api.clock.time}, '\n",
    "                  f'alarm time is {alarm_time}, receiver is Agent {agent_to_receive_alarm}')"
   ]
  },
  {
   "cell_type": "code",
   "execution_count": 53,
   "metadata": {
    "ExecuteTime": {
     "end_time": "2023-06-20T13:59:42.643060100Z",
     "start_time": "2023-06-20T13:59:42.424372Z"
    }
   },
   "outputs": [
    {
     "name": "stderr",
     "output_type": "stream",
     "text": [
      "Registering agent TestAgent A\n",
      "A subscribing to A on all topics.\n",
      "A subscribing to TestAgent for all agents.\n",
      "Registering agent TestAgent B\n",
      "B subscribing to B on all topics.\n",
      "B subscribing to TestAgent for all agents.\n",
      "Registering agent TestAgent C\n",
      "C subscribing to C on all topics.\n",
      "C subscribing to TestAgent for all agents.\n",
      "Registering agent TestAgent D\n",
      "D subscribing to D on all topics.\n",
      "D subscribing to TestAgent for all agents.\n",
      "Registering agent TestAgent E\n",
      "E subscribing to E on all topics.\n",
      "E subscribing to TestAgent for all agents.\n"
     ]
    }
   ],
   "source": [
    "random.seed(1) # set up a random seed\n",
    "agents = [TestAgent(i) for i in ['A', 'B', 'C', 'D', 'E']] # let us create 5 agents\n",
    "scheduler = Scheduler(real_time = False) # remember the real_time !\n",
    "for agent in agents:\n",
    "    scheduler.add(agent)\n",
    "agents[0].send(TestMessage('A', 'A', 0, 0))  # let us prime agent A with a test message"
   ]
  },
  {
   "cell_type": "code",
   "execution_count": 54,
   "metadata": {
    "ExecuteTime": {
     "end_time": "2023-06-20T13:59:42.848411200Z",
     "start_time": "2023-06-20T13:59:42.596147400Z"
    }
   },
   "outputs": [
    {
     "name": "stdout",
     "output_type": "stream",
     "text": [
      "Agent A receives alarm From A to A, created at 0, scheduled alarm time 0, decides to set 1 alarms\n",
      "An alarm has been set by Agent A at t = 0, alarm time is 0, receiver is Agent E\n"
     ]
    }
   ],
   "source": [
    "# iteration 1\n",
    "scheduler.process_mail_queue()\n",
    "agents[0].update()"
   ]
  },
  {
   "cell_type": "code",
   "execution_count": 55,
   "metadata": {
    "ExecuteTime": {
     "end_time": "2023-06-20T13:59:43.486689700Z",
     "start_time": "2023-06-20T13:59:43.377388300Z"
    }
   },
   "outputs": [],
   "source": [
    "assert scheduler.clock.registry.keys() == {'E'}, 'the agents that have alarms (fate) scheduled (destinied) will be shown here'\n",
    "assert 0 in scheduler.clock.registry['E'].alarms, \"t = 0 should be added to Agent E's alarms\"\n",
    "assert scheduler.clock.alarm_time == [0], \"alarm time t = 0 has been added to the 'schedule' (fate)\""
   ]
  },
  {
   "cell_type": "markdown",
   "metadata": {},
   "source": [
    "Be careful with the data structure in **scheduler.clock.registry[agent.uuid].alarms**"
   ]
  },
  {
   "cell_type": "code",
   "execution_count": 56,
   "metadata": {
    "ExecuteTime": {
     "end_time": "2023-06-20T13:59:47.021322200Z",
     "start_time": "2023-06-20T13:59:46.908727900Z"
    }
   },
   "outputs": [
    {
     "name": "stdout",
     "output_type": "stream",
     "text": [
      "[From A to E, created at 0, scheduled alarm time 0]\n",
      "From A to E, created at 0, scheduled alarm time 0\n"
     ]
    }
   ],
   "source": [
    "print(scheduler.clock.registry['E'].alarms[0])\n",
    "print(scheduler.clock.registry['E'].alarms[0][0])"
   ]
  },
  {
   "cell_type": "markdown",
   "metadata": {},
   "source": [
    "**Iteration 1**: the primed message sent from A to A, triggers the function \"receive_test_message\". Agent A decides to set 1 alarm for agent E with 0 as alarm time"
   ]
  },
  {
   "attachments": {},
   "cell_type": "markdown",
   "metadata": {},
   "source": [
    "<img src=\"figs/Iteration1.PNG\" width=\"70%\" height=\"70%\">"
   ]
  },
  {
   "cell_type": "markdown",
   "metadata": {},
   "source": [
    "**Guess what would happen in iteration 2**?"
   ]
  },
  {
   "cell_type": "code",
   "execution_count": 57,
   "metadata": {
    "ExecuteTime": {
     "end_time": "2023-06-20T13:59:51.205714Z",
     "start_time": "2023-06-20T13:59:51.127222400Z"
    }
   },
   "outputs": [
    {
     "name": "stdout",
     "output_type": "stream",
     "text": [
      "Agent  E\n",
      "Agent E receives alarm From A to E, created at 0, scheduled alarm time 0, decides to set 2 alarms\n",
      "An alarm has been set by Agent E at t = 0, alarm time is 3, receiver is Agent A\n",
      "An alarm has been set by Agent E at t = 0, alarm time is 3, receiver is Agent D\n"
     ]
    }
   ],
   "source": [
    "# iteration 2\n",
    "assert scheduler.clock.time == 0\n",
    "scheduler.needs_update.clear()  # first clear the needs_update\n",
    "scheduler.clock.tick() # advance the clock the next event time\n",
    "assert scheduler.clock.time == 0\n",
    "scheduler.clock.release_alarm_messages()  # release the alarm messages\n",
    "scheduler.process_mail_queue() # deliver the messages to designated receiver/subscriber\n",
    "assert scheduler.needs_update == {'E'}\n",
    "for agent_id in scheduler.needs_update:  # calls the agent to update\n",
    "    print(\"Agent \", agent_id)\n",
    "    agent = scheduler.agents[agent_id]\n",
    "    agent.update()"
   ]
  },
  {
   "cell_type": "code",
   "execution_count": 58,
   "metadata": {
    "ExecuteTime": {
     "end_time": "2023-06-20T13:59:53.111893500Z",
     "start_time": "2023-06-20T13:59:52.946587800Z"
    }
   },
   "outputs": [
    {
     "name": "stdout",
     "output_type": "stream",
     "text": [
      "[From E to A, created at 0, scheduled alarm time 3]\n",
      "From E to A, created at 0, scheduled alarm time 3\n",
      "[From E to D, created at 0, scheduled alarm time 3]\n",
      "From E to D, created at 0, scheduled alarm time 3\n"
     ]
    }
   ],
   "source": [
    "assert scheduler.clock.registry.keys() == {'E', 'A', 'D'}\n",
    "assert scheduler.clock.registry['E'].alarms.keys() == set(), 'Although E is in registry, but it alarms should be an empty dict'\n",
    "print(scheduler.clock.registry['A'].alarms[3])\n",
    "print(scheduler.clock.registry['A'].alarms[3][0])\n",
    "print(scheduler.clock.registry['D'].alarms[3])\n",
    "print(scheduler.clock.registry['D'].alarms[3][0])"
   ]
  },
  {
   "cell_type": "markdown",
   "metadata": {},
   "source": [
    "**Iteration 2**, since the alarm time set by A in previous iteration is 0, the clock does not move forward. Agent E decides to set 1 alarm for both agent A & D in 3 seconds"
   ]
  },
  {
   "attachments": {},
   "cell_type": "markdown",
   "metadata": {},
   "source": [
    "<img src=\"figs/Iteration2.PNG\" width=\"70%\" height=\"70%\">"
   ]
  },
  {
   "cell_type": "code",
   "execution_count": 59,
   "metadata": {
    "ExecuteTime": {
     "end_time": "2023-06-20T14:00:05.096573800Z",
     "start_time": "2023-06-20T14:00:05.034094500Z"
    }
   },
   "outputs": [
    {
     "name": "stdout",
     "output_type": "stream",
     "text": [
      "Agent  D\n",
      "Agent D receives alarm From E to D, created at 0, scheduled alarm time 3, decides to set 3 alarms\n",
      "An alarm has been set by Agent D at t = 3, alarm time is 0, receiver is Agent B\n",
      "An alarm has been set by Agent D at t = 3, alarm time is 0, receiver is Agent D\n",
      "An alarm has been set by Agent D at t = 3, alarm time is 3, receiver is Agent D\n",
      "Agent  A\n",
      "Agent A receives alarm From E to A, created at 0, scheduled alarm time 3, decides to set 0 alarms\n"
     ]
    }
   ],
   "source": [
    "# iteration 3\n",
    "assert scheduler.clock.time == 0\n",
    "scheduler.needs_update.clear()  # first clear the needs_update\n",
    "scheduler.clock.tick() # advance the clock the next event time\n",
    "assert scheduler.clock.time == 3\n",
    "scheduler.clock.release_alarm_messages()  # release the alarm messages\n",
    "scheduler.process_mail_queue() # deliver the messages to designated receiver/subscriber\n",
    "assert scheduler.needs_update == {'A', 'D'}\n",
    "for agent_id in scheduler.needs_update:  # calls the agent to update\n",
    "    print(\"Agent \", agent_id)\n",
    "    agent = scheduler.agents[agent_id]\n",
    "    agent.update()"
   ]
  },
  {
   "cell_type": "markdown",
   "metadata": {},
   "source": [
    "**Iteration 3**"
   ]
  },
  {
   "attachments": {},
   "cell_type": "markdown",
   "metadata": {},
   "source": [
    "<img src=\"figs/Iteration3.PNG\" width=\"70%\" height=\"70%\">"
   ]
  },
  {
   "cell_type": "code",
   "execution_count": 60,
   "metadata": {
    "ExecuteTime": {
     "end_time": "2023-06-20T14:02:06.145532300Z",
     "start_time": "2023-06-20T14:02:05.980717600Z"
    }
   },
   "outputs": [
    {
     "name": "stdout",
     "output_type": "stream",
     "text": [
      "Agent  B\n",
      "Agent B receives alarm From D to B, created at 3, scheduled alarm time 0, decides to set 3 alarms\n",
      "An alarm has been set by Agent B at t = 3, alarm time is 5, receiver is Agent C\n",
      "An alarm has been set by Agent B at t = 3, alarm time is 4, receiver is Agent B\n",
      "An alarm has been set by Agent B at t = 3, alarm time is 2, receiver is Agent A\n",
      "Agent  D\n",
      "Agent D receives alarm From D to D, created at 3, scheduled alarm time 0, decides to set 0 alarms\n"
     ]
    }
   ],
   "source": [
    "# iteration 4\n",
    "assert scheduler.clock.time == 3\n",
    "scheduler.needs_update.clear()  # first clear the needs_update\n",
    "scheduler.clock.tick() # advance the clock the next event time\n",
    "assert scheduler.clock.time == 3\n",
    "scheduler.clock.release_alarm_messages()  # release the alarm messages\n",
    "scheduler.process_mail_queue() # deliver the messages to designated receiver/subscriber\n",
    "assert scheduler.needs_update == {'B', 'D'}\n",
    "for agent_id in scheduler.needs_update:  # calls the agent to update\n",
    "    print(\"Agent \", agent_id)\n",
    "    agent = scheduler.agents[agent_id]\n",
    "    agent.update()"
   ]
  },
  {
   "cell_type": "markdown",
   "metadata": {},
   "source": [
    "**Iteration 4** similar to what happened at iteration 2, the clock did not move forward"
   ]
  },
  {
   "attachments": {},
   "cell_type": "markdown",
   "metadata": {},
   "source": [
    "<img src=\"figs/Iteration4.PNG\" width=\"70%\" height=\"70%\">"
   ]
  },
  {
   "cell_type": "code",
   "execution_count": 61,
   "metadata": {
    "ExecuteTime": {
     "end_time": "2023-06-20T14:05:20.929568500Z",
     "start_time": "2023-06-20T14:05:20.779120700Z"
    }
   },
   "outputs": [
    {
     "name": "stdout",
     "output_type": "stream",
     "text": [
      "Agent  A\n",
      "Agent A receives alarm From B to A, created at 3, scheduled alarm time 2, decides to set 0 alarms\n"
     ]
    }
   ],
   "source": [
    "# iteration 5\n",
    "assert scheduler.clock.time == 3\n",
    "scheduler.needs_update.clear()  # first clear the needs_update\n",
    "scheduler.clock.tick() # advance the clock the next event time\n",
    "assert scheduler.clock.time == 5\n",
    "scheduler.clock.release_alarm_messages()  # release the alarm messages\n",
    "scheduler.process_mail_queue() # deliver the messages to designated receiver/subscriber\n",
    "assert scheduler.needs_update == {'A'}\n",
    "for agent_id in scheduler.needs_update:  # calls the agent to update\n",
    "    print(\"Agent \", agent_id)\n",
    "    agent = scheduler.agents[agent_id]\n",
    "    agent.update()"
   ]
  },
  {
   "cell_type": "markdown",
   "metadata": {},
   "source": [
    "**Iteration 5** Although the alarm at t = 5 was added later than that at t = 6, but since the event is scheduled based on time, the clock advanced to t = 5"
   ]
  },
  {
   "attachments": {},
   "cell_type": "markdown",
   "metadata": {},
   "source": [
    "<img src=\"figs/Iteration5.PNG\" width=\"70%\" height=\"70%\">"
   ]
  },
  {
   "cell_type": "code",
   "execution_count": 62,
   "metadata": {
    "ExecuteTime": {
     "end_time": "2023-06-20T14:06:38.461776100Z",
     "start_time": "2023-06-20T14:06:38.362103900Z"
    }
   },
   "outputs": [
    {
     "name": "stdout",
     "output_type": "stream",
     "text": [
      "Agent  D\n",
      "Agent D receives alarm From D to D, created at 3, scheduled alarm time 3, decides to set 0 alarms\n"
     ]
    }
   ],
   "source": [
    " # iteration 6\n",
    "assert scheduler.clock.time == 5\n",
    "scheduler.needs_update.clear()  # first clear the needs_update\n",
    "scheduler.clock.tick() # advance the clock the next event time\n",
    "assert scheduler.clock.time == 6\n",
    "scheduler.clock.release_alarm_messages()  # release the alarm messages\n",
    "scheduler.process_mail_queue() # deliver the messages to designated receiver/subscriber\n",
    "assert scheduler.needs_update == {'D'}\n",
    "for agent_id in scheduler.needs_update:  # calls the agent to update\n",
    "    print(\"Agent \", agent_id)\n",
    "    agent = scheduler.agents[agent_id]\n",
    "    agent.update()"
   ]
  },
  {
   "cell_type": "markdown",
   "metadata": {},
   "source": [
    "**Iteration 6** "
   ]
  },
  {
   "attachments": {},
   "cell_type": "markdown",
   "metadata": {},
   "source": [
    "<img src=\"figs/Iteration6.PNG\" width=\"70%\" height=\"70%\">"
   ]
  },
  {
   "cell_type": "code",
   "execution_count": 63,
   "metadata": {
    "ExecuteTime": {
     "end_time": "2023-06-20T14:07:46.744350200Z",
     "start_time": "2023-06-20T14:07:46.635076200Z"
    }
   },
   "outputs": [
    {
     "name": "stdout",
     "output_type": "stream",
     "text": [
      "Agent  B\n",
      "Agent B receives alarm From B to B, created at 3, scheduled alarm time 4, decides to set 0 alarms\n"
     ]
    }
   ],
   "source": [
    "# iteration 7\n",
    "assert scheduler.clock.time == 6\n",
    "scheduler.needs_update.clear()  # first clear the needs_update\n",
    "scheduler.clock.tick() # advance the clock the next event time\n",
    "assert scheduler.clock.time == 7\n",
    "scheduler.clock.release_alarm_messages()  # release the alarm messages\n",
    "scheduler.process_mail_queue() # deliver the messages to designated receiver/subscriber\n",
    "assert scheduler.needs_update == {'B'}\n",
    "for agent_id in scheduler.needs_update:  # calls the agent to update\n",
    "    print(\"Agent \", agent_id)\n",
    "    agent = scheduler.agents[agent_id]\n",
    "    agent.update()"
   ]
  },
  {
   "cell_type": "markdown",
   "metadata": {},
   "source": [
    "**Iteration 7**"
   ]
  },
  {
   "attachments": {},
   "cell_type": "markdown",
   "metadata": {},
   "source": [
    "<img src=\"figs/Iteration7.PNG\" width=\"70%\" height=\"70%\">"
   ]
  },
  {
   "cell_type": "code",
   "execution_count": 64,
   "metadata": {
    "ExecuteTime": {
     "end_time": "2023-06-20T14:08:08.722338700Z",
     "start_time": "2023-06-20T14:08:08.552346300Z"
    }
   },
   "outputs": [
    {
     "name": "stdout",
     "output_type": "stream",
     "text": [
      "Agent  C\n",
      "Agent C receives alarm From B to C, created at 3, scheduled alarm time 5, decides to set 3 alarms\n",
      "An alarm has been set by Agent C at t = 8, alarm time is 3, receiver is Agent B\n",
      "An alarm has been set by Agent C at t = 8, alarm time is 4, receiver is Agent A\n",
      "An alarm has been set by Agent C at t = 8, alarm time is 3, receiver is Agent B\n"
     ]
    }
   ],
   "source": [
    "# iteration 8\n",
    "assert scheduler.clock.time == 7\n",
    "scheduler.needs_update.clear()  # first clear the needs_update\n",
    "scheduler.clock.tick() # advance the clock the next event time\n",
    "assert scheduler.clock.time == 8\n",
    "scheduler.clock.release_alarm_messages()  # release the alarm messages\n",
    "scheduler.process_mail_queue() # deliver the messages to designated receiver/subscriber\n",
    "assert scheduler.needs_update == {'C'}\n",
    "for agent_id in scheduler.needs_update:  # calls the agent to update\n",
    "    print(\"Agent \", agent_id)\n",
    "    agent = scheduler.agents[agent_id]\n",
    "    agent.update()"
   ]
  },
  {
   "cell_type": "markdown",
   "metadata": {},
   "source": [
    "**Iteration 8**"
   ]
  },
  {
   "attachments": {},
   "cell_type": "markdown",
   "metadata": {},
   "source": [
    "<img src=\"figs/Iteration8.PNG\" width=\"70%\" height=\"70%\">"
   ]
  },
  {
   "cell_type": "code",
   "execution_count": 65,
   "metadata": {
    "ExecuteTime": {
     "end_time": "2023-06-20T14:10:46.466496Z",
     "start_time": "2023-06-20T14:10:46.388065800Z"
    }
   },
   "outputs": [
    {
     "name": "stdout",
     "output_type": "stream",
     "text": [
      "Agent  B\n",
      "Agent B receives alarm From C to B, created at 8, scheduled alarm time 3, decides to set 3 alarms\n",
      "An alarm has been set by Agent B at t = 11, alarm time is 1, receiver is Agent E\n",
      "An alarm has been set by Agent B at t = 11, alarm time is 1, receiver is Agent C\n",
      "An alarm has been set by Agent B at t = 11, alarm time is 3, receiver is Agent B\n",
      "Agent B receives alarm From C to B, created at 8, scheduled alarm time 3, decides to set 2 alarms\n",
      "An alarm has been set by Agent B at t = 11, alarm time is 3, receiver is Agent A\n",
      "An alarm has been set by Agent B at t = 11, alarm time is 5, receiver is Agent E\n"
     ]
    }
   ],
   "source": [
    "# iteration 9\n",
    "assert scheduler.clock.time == 8\n",
    "scheduler.needs_update.clear()  # first clear the needs_update\n",
    "scheduler.clock.tick() # advance the clock the next event time\n",
    "assert scheduler.clock.time == 11\n",
    "scheduler.clock.release_alarm_messages()  # release the alarm messages\n",
    "scheduler.process_mail_queue() # deliver the messages to designated receiver/subscriber\n",
    "assert scheduler.needs_update == {'B'}\n",
    "for agent_id in scheduler.needs_update:  # calls the agent to update\n",
    "    print(\"Agent \", agent_id)\n",
    "    agent = scheduler.agents[agent_id]\n",
    "    agent.update()"
   ]
  },
  {
   "cell_type": "markdown",
   "metadata": {},
   "source": [
    "**Iteration 9**, Agent B updates according to \"TestMessage\", since there are two \"TestMessage\" sent to B,\n",
    "The function \"receive_test_message\" is called twice"
   ]
  },
  {
   "attachments": {},
   "cell_type": "markdown",
   "metadata": {},
   "source": [
    "<img src=\"figs/Iteration9.PNG\" width=\"70%\" height=\"70%\">"
   ]
  },
  {
   "cell_type": "markdown",
   "metadata": {},
   "source": [
    "We can continue to demo each iteration, but due to time limits, let us stop here. As you can see, if we model our agent and message carefully, we can accurately model a nuclear fission process and even calculate the amount of energy released, this is the power of an agent based modeling.\n",
    "as we just went through how to use different functions in scheduler to move the clock forward event by event.\n",
    "Couple of things to remember:\n",
    "1. tick may or may not advance the clock, as it depends on the alarmed messages in the schedule\n",
    "2. At one point of time t = x, multiple iterations/updates can happen "
   ]
  },
  {
   "attachments": {},
   "cell_type": "markdown",
   "metadata": {},
   "source": [
    "**Is there a way to let this \"chain reaction\" happen automatically?**\n",
    "<br><img src=\"figs/chain_reaction.gif\" width=\"30%\" height=\"30%\">"
   ]
  },
  {
   "cell_type": "markdown",
   "metadata": {},
   "source": [
    "## Understanding scheduler.run()"
   ]
  },
  {
   "cell_type": "markdown",
   "metadata": {},
   "source": [
    "While analysing the scheduler clock step by step, we saw that scheduler relies on \"tick\" to decide what time is it for next iteration. Each iteration is a completion of scheduler kernel"
   ]
  },
  {
   "attachments": {},
   "cell_type": "markdown",
   "metadata": {},
   "source": [
    "<img src=\"figs/MasLiteSchedulerKernel.PNG\" width=\"60%\" height=\"60%\">"
   ]
  },
  {
   "cell_type": "markdown",
   "metadata": {},
   "source": [
    "The functions we used to run step by step has been well capsulated in **Scheduler.run()**. Let's see it in action below. We use the exact same example as in previous section."
   ]
  },
  {
   "cell_type": "code",
   "execution_count": 66,
   "metadata": {
    "ExecuteTime": {
     "end_time": "2023-06-20T16:49:36.749211700Z",
     "start_time": "2023-06-20T16:49:36.186665600Z"
    }
   },
   "outputs": [
    {
     "name": "stderr",
     "output_type": "stream",
     "text": [
      "Registering agent TestAgent A\n",
      "A subscribing to A on all topics.\n",
      "A subscribing to TestAgent for all agents.\n",
      "Registering agent TestAgent B\n",
      "B subscribing to B on all topics.\n",
      "B subscribing to TestAgent for all agents.\n",
      "Registering agent TestAgent C\n",
      "C subscribing to C on all topics.\n",
      "C subscribing to TestAgent for all agents.\n",
      "Registering agent TestAgent D\n",
      "D subscribing to D on all topics.\n",
      "D subscribing to TestAgent for all agents.\n",
      "Registering agent TestAgent E\n",
      "E subscribing to E on all topics.\n",
      "E subscribing to TestAgent for all agents.\n"
     ]
    }
   ],
   "source": [
    "TestAgent.agents = [] # clear this class attribute\n",
    "random.seed(7) # set up a random seed note we set the random seed to 7 instead of 1!\n",
    "agents = [TestAgent(i) for i in ['A', 'B', 'C', 'D', 'E']] # let us create 5 agents\n",
    "scheduler = Scheduler(real_time = False) # remember the real_time !\n",
    "for agent in agents:\n",
    "    scheduler.add(agent)\n",
    "agents[0].send(TestMessage('A', 'A', 0, 0))  # let us prime agent A with a test message"
   ]
  },
  {
   "cell_type": "code",
   "execution_count": 67,
   "metadata": {},
   "outputs": [
    {
     "name": "stdout",
     "output_type": "stream",
     "text": [
      "Agent A receives alarm From A to A, created at 0, scheduled alarm time 0, decides to set 2 alarms\n",
      "An alarm has been set by Agent A at t = 0, alarm time is 3, receiver is Agent B\n",
      "An alarm has been set by Agent A at t = 0, alarm time is 0, receiver is Agent A\n",
      "Agent A receives alarm From A to A, created at 0, scheduled alarm time 0, decides to set 0 alarms\n",
      "Agent B receives alarm From A to B, created at 0, scheduled alarm time 3, decides to set 2 alarms\n",
      "An alarm has been set by Agent B at t = 3, alarm time is 0, receiver is Agent E\n",
      "An alarm has been set by Agent B at t = 3, alarm time is 1, receiver is Agent E\n",
      "Agent E receives alarm From B to E, created at 3, scheduled alarm time 0, decides to set 0 alarms\n",
      "Agent E receives alarm From B to E, created at 3, scheduled alarm time 1, decides to set 0 alarms\n"
     ]
    }
   ],
   "source": [
    "scheduler.run()\n",
    "assert scheduler.clock.time == 4"
   ]
  },
  {
   "cell_type": "markdown",
   "metadata": {},
   "source": [
    "**Could you try to recover what happened at each iteration and how many iterations based on the printout?**"
   ]
  },
  {
   "cell_type": "markdown",
   "metadata": {},
   "source": [
    "Without any parameter tuning, the scheduler.run() will run until \"heat death of the universe\", meaning there is no alarms/messages scheduled anymore. The simulation comes to an end. However, we can fine tune our scheduler to run to well controlled number of iterations or to a certain time, and continue later. Thus, inside **schedule.run()**, we are going to focus on two important parameters **iterations** and **seconds**. Let's look at **iterations** parameter first."
   ]
  },
  {
   "cell_type": "markdown",
   "metadata": {},
   "source": [
    "### Parameter : iterations\n",
    "\n",
    "Now, each **iteration** in the scheduler corresponds to n Maslite Kernel operation.\n",
    "Let's understand this by analyzing **3 iterations** and **5 iterations** of scheduler respectively."
   ]
  },
  {
   "cell_type": "code",
   "execution_count": 68,
   "metadata": {},
   "outputs": [
    {
     "name": "stderr",
     "output_type": "stream",
     "text": [
      "Registering agent TestAgent A\n",
      "A subscribing to A on all topics.\n",
      "A subscribing to TestAgent for all agents.\n",
      "Registering agent TestAgent B\n",
      "B subscribing to B on all topics.\n",
      "B subscribing to TestAgent for all agents.\n",
      "Registering agent TestAgent C\n",
      "C subscribing to C on all topics.\n",
      "C subscribing to TestAgent for all agents.\n",
      "Registering agent TestAgent D\n",
      "D subscribing to D on all topics.\n",
      "D subscribing to TestAgent for all agents.\n",
      "Registering agent TestAgent E\n",
      "E subscribing to E on all topics.\n",
      "E subscribing to TestAgent for all agents.\n"
     ]
    }
   ],
   "source": [
    "TestAgent.agents = [] # clear this class attribute\n",
    "random.seed(1) # set up a random seed, note we set the random seed to 7 instead of 1!\n",
    "agents = [TestAgent(i) for i in ['A', 'B', 'C', 'D', 'E']] # let us create 5 agents\n",
    "scheduler = Scheduler(real_time = False) # remember the real_time !\n",
    "for agent in agents:\n",
    "    scheduler.add(agent)\n",
    "agents[0].send(TestMessage('A', 'A', 0, 0))  # let us prime agent A with a test message"
   ]
  },
  {
   "cell_type": "code",
   "execution_count": 69,
   "metadata": {
    "ExecuteTime": {
     "end_time": "2023-06-20T16:10:56.382343700Z",
     "start_time": "2023-06-20T16:10:56.335244100Z"
    }
   },
   "outputs": [
    {
     "name": "stdout",
     "output_type": "stream",
     "text": [
      "Agent A receives alarm From A to A, created at 0, scheduled alarm time 0, decides to set 1 alarms\n",
      "An alarm has been set by Agent A at t = 0, alarm time is 0, receiver is Agent E\n",
      "Agent E receives alarm From A to E, created at 0, scheduled alarm time 0, decides to set 2 alarms\n",
      "An alarm has been set by Agent E at t = 0, alarm time is 3, receiver is Agent A\n",
      "An alarm has been set by Agent E at t = 0, alarm time is 3, receiver is Agent D\n",
      "Agent D receives alarm From E to D, created at 0, scheduled alarm time 3, decides to set 3 alarms\n",
      "An alarm has been set by Agent D at t = 3, alarm time is 0, receiver is Agent B\n",
      "An alarm has been set by Agent D at t = 3, alarm time is 0, receiver is Agent D\n",
      "An alarm has been set by Agent D at t = 3, alarm time is 3, receiver is Agent D\n",
      "Agent A receives alarm From E to A, created at 0, scheduled alarm time 3, decides to set 0 alarms\n"
     ]
    }
   ],
   "source": [
    "scheduler.run(iterations=3)"
   ]
  },
  {
   "cell_type": "markdown",
   "metadata": {
    "collapsed": false
   },
   "source": [
    "**iterations 1:** t = 0, Agent A receives message that were sent to itself and randomly selects Agent E and sets alarm for it with alarm time = 0.\n",
    "\n",
    "**iterations 2:** t = 0, Agent E receives the alarm and randomly selects Agent A and D and sets alarm for them with alarm time = 3\n",
    "\n",
    "**iterations 3:** t = 3, Agent A receives the alarm and randomly selects Agent B and D and sets alarms. Agent D receives the alarm and decides not to set any alarms \"number of alarms to set:  0\""
   ]
  },
  {
   "cell_type": "markdown",
   "metadata": {},
   "source": [
    "We can let the scheduler continue to run!"
   ]
  },
  {
   "cell_type": "code",
   "execution_count": 70,
   "metadata": {
    "ExecuteTime": {
     "end_time": "2023-06-20T16:16:55.748226100Z",
     "start_time": "2023-06-20T16:16:55.622515800Z"
    }
   },
   "outputs": [
    {
     "name": "stdout",
     "output_type": "stream",
     "text": [
      "{'B', 'D'}\n",
      "Agent B receives alarm From D to B, created at 3, scheduled alarm time 0, decides to set 3 alarms\n",
      "An alarm has been set by Agent B at t = 3, alarm time is 5, receiver is Agent C\n",
      "An alarm has been set by Agent B at t = 3, alarm time is 4, receiver is Agent B\n",
      "An alarm has been set by Agent B at t = 3, alarm time is 2, receiver is Agent A\n",
      "Agent D receives alarm From D to D, created at 3, scheduled alarm time 0, decides to set 0 alarms\n",
      "Agent A receives alarm From B to A, created at 3, scheduled alarm time 2, decides to set 0 alarms\n",
      "Agent B receives alarm From B to B, created at 3, scheduled alarm time 4, decides to set 0 alarms\n",
      "Agent C receives alarm From B to C, created at 3, scheduled alarm time 5, decides to set 0 alarms\n"
     ]
    }
   ],
   "source": [
    "scheduler.run(iterations=5)"
   ]
  },
  {
   "cell_type": "markdown",
   "metadata": {},
   "source": [
    "**iterations 4:** t = 3, Agent D receives alarm set by A and decides to set 3 alarms for C, B, A with different alarm time.\n",
    "Agent B receives alarm set by A, but decides not to set any alarm\n",
    "    \n",
    "**iterations 5:** Agent A receives alarm set by D but decides not to set any alarm\n",
    "\n",
    "**iterations 6:** Agent B receives alarm set by D but decides not to set any alarm\n",
    "\n",
    "**iterations 7:** Agent C receives alarm set by D but decides not to set any alarm\n",
    "\n",
    "**iterations 8: Where is iteration 8?**\n"
   ]
  },
  {
   "cell_type": "markdown",
   "metadata": {},
   "source": [
    "### parameter: seconds\n",
    "\n",
    "Let's call the time when alarm(s) is(are) scheduled to go off \"point of interest\". Then at each iteration, scheduler tries to advance the clock to the nearest \"point of interest\" in the future. If we put a \"seconds\" constraint inside scheduler.run() function, then scheduler will not advance the clock if the current time has passed the scheduled run time (time before the run starts + \"seconds\")"
   ]
  },
  {
   "cell_type": "code",
   "execution_count": 72,
   "metadata": {
    "collapsed": false
   },
   "outputs": [
    {
     "name": "stderr",
     "output_type": "stream",
     "text": [
      "Registering agent TestAgent A\n",
      "A subscribing to A on all topics.\n",
      "A subscribing to TestAgent for all agents.\n",
      "Registering agent TestAgent B\n",
      "B subscribing to B on all topics.\n",
      "B subscribing to TestAgent for all agents.\n",
      "Registering agent TestAgent C\n",
      "C subscribing to C on all topics.\n",
      "C subscribing to TestAgent for all agents.\n",
      "Registering agent TestAgent D\n",
      "D subscribing to D on all topics.\n",
      "D subscribing to TestAgent for all agents.\n",
      "Registering agent TestAgent E\n",
      "E subscribing to E on all topics.\n",
      "E subscribing to TestAgent for all agents.\n"
     ]
    }
   ],
   "source": [
    "TestAgent.agents = [] # clear this class attribute\n",
    "random.seed(1) # set up a random seed, note we set the random seed to 7 instead of 1!\n",
    "agents = [TestAgent(i) for i in ['A', 'B', 'C', 'D', 'E']] # let us create 5 agents\n",
    "scheduler = Scheduler(real_time = False) # remember the real_time !\n",
    "for agent in agents:\n",
    "    scheduler.add(agent)\n",
    "agents[0].send(TestMessage('A', 'A', 0, 0))  # let us prime agent A with a test message"
   ]
  },
  {
   "cell_type": "code",
   "execution_count": 73,
   "metadata": {
    "collapsed": false
   },
   "outputs": [
    {
     "name": "stdout",
     "output_type": "stream",
     "text": [
      "Agent A receives alarm From A to A, created at 0, scheduled alarm time 0, decides to set 1 alarms\n",
      "An alarm has been set by Agent A at t = 0, alarm time is 0, receiver is Agent E\n",
      "Agent E receives alarm From A to E, created at 0, scheduled alarm time 0, decides to set 2 alarms\n",
      "An alarm has been set by Agent E at t = 0, alarm time is 3, receiver is Agent A\n",
      "An alarm has been set by Agent E at t = 0, alarm time is 3, receiver is Agent D\n"
     ]
    }
   ],
   "source": [
    "scheduler.run(seconds=3)"
   ]
  },
  {
   "cell_type": "markdown",
   "metadata": {},
   "source": [
    "we can clearly see that only 2 iterations were executed, and the scheduler's time is 3"
   ]
  },
  {
   "cell_type": "code",
   "execution_count": 75,
   "metadata": {
    "collapsed": false
   },
   "outputs": [],
   "source": [
    "assert scheduler.clock.time == 3"
   ]
  },
  {
   "cell_type": "code",
   "execution_count": 77,
   "metadata": {
    "ExecuteTime": {
     "end_time": "2023-06-20T16:28:54.825154300Z",
     "start_time": "2023-06-20T16:28:54.572295900Z"
    }
   },
   "outputs": [
    {
     "name": "stderr",
     "output_type": "stream",
     "text": [
      "Registering agent TestAgent A\n",
      "A subscribing to A on all topics.\n",
      "A subscribing to TestAgent for all agents.\n",
      "Registering agent TestAgent B\n",
      "B subscribing to B on all topics.\n",
      "B subscribing to TestAgent for all agents.\n",
      "Registering agent TestAgent C\n",
      "C subscribing to C on all topics.\n",
      "C subscribing to TestAgent for all agents.\n",
      "Registering agent TestAgent D\n",
      "D subscribing to D on all topics.\n",
      "D subscribing to TestAgent for all agents.\n",
      "Registering agent TestAgent E\n",
      "E subscribing to E on all topics.\n",
      "E subscribing to TestAgent for all agents.\n"
     ]
    }
   ],
   "source": [
    "TestAgent.agents = [] # clear this class attribute\n",
    "random.seed(1) # set up a random seed, note we set the random seed to 7 instead of 1!\n",
    "agents = [TestAgent(i) for i in ['A', 'B', 'C', 'D', 'E']] # let us create 5 agents\n",
    "scheduler = Scheduler(real_time = False) # remember the real_time !\n",
    "for agent in agents:\n",
    "    scheduler.add(agent)\n",
    "agents[0].send(TestMessage('A', 'A', 0,  0))  # let us prime agent A with a test message"
   ]
  },
  {
   "cell_type": "code",
   "execution_count": 78,
   "metadata": {
    "collapsed": false
   },
   "outputs": [
    {
     "name": "stdout",
     "output_type": "stream",
     "text": [
      "Agent A receives alarm From A to A, created at 0, scheduled alarm time 0, decides to set 1 alarms\n",
      "An alarm has been set by Agent A at t = 0, alarm time is 0, receiver is Agent E\n",
      "Agent E receives alarm From A to E, created at 0, scheduled alarm time 0, decides to set 2 alarms\n",
      "An alarm has been set by Agent E at t = 0, alarm time is 3, receiver is Agent A\n",
      "An alarm has been set by Agent E at t = 0, alarm time is 3, receiver is Agent D\n",
      "Agent D receives alarm From E to D, created at 0, scheduled alarm time 3, decides to set 3 alarms\n",
      "An alarm has been set by Agent D at t = 3, alarm time is 0, receiver is Agent B\n",
      "An alarm has been set by Agent D at t = 3, alarm time is 0, receiver is Agent D\n",
      "An alarm has been set by Agent D at t = 3, alarm time is 3, receiver is Agent D\n",
      "Agent A receives alarm From E to A, created at 0, scheduled alarm time 3, decides to set 0 alarms\n",
      "Agent B receives alarm From D to B, created at 3, scheduled alarm time 0, decides to set 3 alarms\n",
      "An alarm has been set by Agent B at t = 3, alarm time is 5, receiver is Agent C\n",
      "An alarm has been set by Agent B at t = 3, alarm time is 4, receiver is Agent B\n",
      "An alarm has been set by Agent B at t = 3, alarm time is 2, receiver is Agent A\n",
      "Agent D receives alarm From D to D, created at 3, scheduled alarm time 0, decides to set 0 alarms\n"
     ]
    }
   ],
   "source": [
    "scheduler.run(seconds=5)"
   ]
  },
  {
   "cell_type": "code",
   "execution_count": 80,
   "metadata": {
    "collapsed": false
   },
   "outputs": [],
   "source": [
    "assert scheduler.clock.time == 5"
   ]
  },
  {
   "cell_type": "code",
   "execution_count": 81,
   "metadata": {
    "collapsed": false
   },
   "outputs": [
    {
     "name": "stderr",
     "output_type": "stream",
     "text": [
      "Registering agent TestAgent A\n",
      "A subscribing to A on all topics.\n",
      "A subscribing to TestAgent for all agents.\n",
      "Registering agent TestAgent B\n",
      "B subscribing to B on all topics.\n",
      "B subscribing to TestAgent for all agents.\n",
      "Registering agent TestAgent C\n",
      "C subscribing to C on all topics.\n",
      "C subscribing to TestAgent for all agents.\n",
      "Registering agent TestAgent D\n",
      "D subscribing to D on all topics.\n",
      "D subscribing to TestAgent for all agents.\n",
      "Registering agent TestAgent E\n",
      "E subscribing to E on all topics.\n",
      "E subscribing to TestAgent for all agents.\n"
     ]
    }
   ],
   "source": [
    "TestAgent.agents = [] # clear this class attribute\n",
    "random.seed(1) # set up a random seed, note we set the random seed to 7 instead of 1!\n",
    "agents = [TestAgent(i) for i in ['A', 'B', 'C', 'D', 'E']] # let us create 5 agents\n",
    "scheduler = Scheduler(real_time = False) # remember the real_time !\n",
    "for agent in agents:\n",
    "    scheduler.add(agent)\n",
    "agents[0].send(TestMessage('A', 'A', 0,  0))  # let us prime agent A with a test message"
   ]
  },
  {
   "cell_type": "code",
   "execution_count": 82,
   "metadata": {
    "collapsed": false
   },
   "outputs": [
    {
     "name": "stdout",
     "output_type": "stream",
     "text": [
      "Agent A receives alarm From A to A, created at 0, scheduled alarm time 0, decides to set 1 alarms\n",
      "An alarm has been set by Agent A at t = 0, alarm time is 0, receiver is Agent E\n",
      "Agent E receives alarm From A to E, created at 0, scheduled alarm time 0, decides to set 2 alarms\n",
      "An alarm has been set by Agent E at t = 0, alarm time is 3, receiver is Agent A\n",
      "An alarm has been set by Agent E at t = 0, alarm time is 3, receiver is Agent D\n",
      "Agent D receives alarm From E to D, created at 0, scheduled alarm time 3, decides to set 3 alarms\n",
      "An alarm has been set by Agent D at t = 3, alarm time is 0, receiver is Agent B\n",
      "An alarm has been set by Agent D at t = 3, alarm time is 0, receiver is Agent D\n",
      "An alarm has been set by Agent D at t = 3, alarm time is 3, receiver is Agent D\n",
      "Agent A receives alarm From E to A, created at 0, scheduled alarm time 3, decides to set 0 alarms\n",
      "Agent B receives alarm From D to B, created at 3, scheduled alarm time 0, decides to set 3 alarms\n",
      "An alarm has been set by Agent B at t = 3, alarm time is 5, receiver is Agent C\n",
      "An alarm has been set by Agent B at t = 3, alarm time is 4, receiver is Agent B\n",
      "An alarm has been set by Agent B at t = 3, alarm time is 2, receiver is Agent A\n",
      "Agent D receives alarm From D to D, created at 3, scheduled alarm time 0, decides to set 0 alarms\n",
      "Agent A receives alarm From B to A, created at 3, scheduled alarm time 2, decides to set 0 alarms\n",
      "Agent D receives alarm From D to D, created at 3, scheduled alarm time 3, decides to set 0 alarms\n",
      "Agent B receives alarm From B to B, created at 3, scheduled alarm time 4, decides to set 0 alarms\n",
      "Agent C receives alarm From B to C, created at 3, scheduled alarm time 5, decides to set 3 alarms\n",
      "An alarm has been set by Agent C at t = 8, alarm time is 3, receiver is Agent B\n",
      "An alarm has been set by Agent C at t = 8, alarm time is 4, receiver is Agent A\n",
      "An alarm has been set by Agent C at t = 8, alarm time is 3, receiver is Agent B\n"
     ]
    }
   ],
   "source": [
    "scheduler.run(seconds=10)"
   ]
  },
  {
   "cell_type": "code",
   "execution_count": 84,
   "metadata": {
    "collapsed": false
   },
   "outputs": [
    {
     "data": {
      "text/plain": [
       "11"
      ]
     },
     "execution_count": 84,
     "metadata": {},
     "output_type": "execute_result"
    }
   ],
   "source": [
    "scheduler.clock.time"
   ]
  }
 ],
 "metadata": {
  "kernelspec": {
   "display_name": "Python 3 (ipykernel)",
   "language": "python",
   "name": "python3"
  },
  "language_info": {
   "codemirror_mode": {
    "name": "ipython",
    "version": 3
   },
   "file_extension": ".py",
   "mimetype": "text/x-python",
   "name": "python",
   "nbconvert_exporter": "python",
   "pygments_lexer": "ipython3",
   "version": "3.9.7"
  }
 },
 "nbformat": 4,
 "nbformat_minor": 1
}

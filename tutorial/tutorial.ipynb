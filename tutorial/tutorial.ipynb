{
 "cells": [
  {
   "cell_type": "markdown",
   "metadata": {},
   "source": [
    "# MASLite tutorial: A Trio of Agent, Scheduler and Messages\n",
    "This is an interactive tutorial on MASLite, the corner stone of Dematic sim engine, which is aimed to help bring new developers up to speed quickly.\n",
    "A side note to help you understand MASLite better. There are different types of simulation modeling technique. If you come from the Simpy world, then you know that Simpy is an Event Based Modeling.\n",
    "MASLite, however, is Agent Based Modeling. Although, there is no clear boundary between one another, the two modeling techniques pivot on different mindsets.\n"
   ]
  },
  {
   "cell_type": "markdown",
   "metadata": {},
   "source": [
    "<img src=\"figs/trio_of_agent_scheduler_and_message.png\">\""
   ]
  },
  {
   "cell_type": "code",
   "execution_count": 107,
   "metadata": {
    "ExecuteTime": {
     "end_time": "2023-06-05T10:32:54.317557800Z",
     "start_time": "2023-06-05T10:32:54.286302600Z"
    }
   },
   "outputs": [],
   "source": [
    "from maslite import Agent, Scheduler, AgentMessage\n",
    "from collections import deque\n",
    "import random\n",
    "from maslite import AlarmRegistry"
   ]
  },
  {
   "cell_type": "markdown",
   "source": [
    "Below is how you can create an agent,\n",
    "one thing to keep in mind is the UUID, each agent needs to have a \"universal unique identifier\", that is basically your name, SSN, or home address, those things \"legally\" define who you are.\n",
    "by default, all agents will be assigned with a UUID at initialization based on the sequence of their creation, which is an integer"
   ],
   "metadata": {
    "collapsed": false
   }
  },
  {
   "cell_type": "code",
   "execution_count": 2,
   "metadata": {
    "ExecuteTime": {
     "end_time": "2023-06-05T10:32:57.052012900Z",
     "start_time": "2023-06-05T10:32:56.989601500Z"
    }
   },
   "outputs": [
    {
     "name": "stdout",
     "output_type": "stream",
     "text": [
      "1 2\n"
     ]
    }
   ],
   "source": [
    "agent_a = Agent()\n",
    "agent_b = Agent()\n",
    "assert isinstance(agent_a.uuid, int) and isinstance(agent_b.uuid, int), 'default uuid in maslite agent should be integer'\n",
    "assert agent_b.uuid > agent_a.uuid, 'agent_b is created after agent_a, thus it uuid should be larger'\n",
    "print(agent_a.uuid, agent_b.uuid)"
   ]
  },
  {
   "cell_type": "markdown",
   "source": [
    "You can give an uuid, as long as it is hashable"
   ],
   "metadata": {
    "collapsed": false
   }
  },
  {
   "cell_type": "code",
   "execution_count": 3,
   "metadata": {},
   "outputs": [
    {
     "name": "stdout",
     "output_type": "stream",
     "text": [
      "Agent's UUID:  James Bound\n"
     ]
    }
   ],
   "source": [
    "agent_a = Agent('James Bound')\n",
    "assert agent_a.uuid == 'James Bound', 'you can change the uuid at initialization'\n",
    "print(\"Agent's UUID: \", agent_a.uuid)"
   ]
  },
  {
   "cell_type": "markdown",
   "metadata": {},
   "source": [
    "Agent A can send Message to Agent B, message should contain sender's uuid (in most cases should be Agent A's uuid) and receiver's uuid (Agent B's uuid)\n",
    "However, to send the Message, Agents need the help of Scheduler\n",
    "To take advantage of Scheduler, you need to initialize it, and also register the agents that you plan to let them communicate to the same scheduler"
   ]
  },
  {
   "cell_type": "code",
   "execution_count": 4,
   "metadata": {},
   "outputs": [
    {
     "name": "stderr",
     "output_type": "stream",
     "text": [
      "Registering agent Agent 007\n",
      "007 subscribing to 007 on all topics.\n",
      "007 subscribing to Agent for all agents.\n",
      "Registering agent Agent 009\n",
      "009 subscribing to 009 on all topics.\n",
      "009 subscribing to Agent for all agents.\n"
     ]
    }
   ],
   "source": [
    "agent_a = Agent('007') # keep in mind we decided to call James by code number\n",
    "agent_b = Agent('009')\n",
    "scheduler = Scheduler()  # initialize the Scheduler\n",
    "scheduler.add(agent_a)  # add (register) the agent to scheduler\n",
    "scheduler.add(agent_b)  # add (register) the agent to scheduler"
   ]
  },
  {
   "cell_type": "markdown",
   "metadata": {},
   "source": [
    "You also need a message to send, this is how you send a message,\n",
    "Just like how you send a letter in the old times\n",
    "You will need a delivery address (receiver.uuid) and a return address (sender.uuid)\n",
    "Good news is in the Kingdom of MASlitevile, the mail delivery service is free, no stamp needed!"
   ]
  },
  {
   "cell_type": "markdown",
   "source": [
    "<img src=\"figs/send_a_letter.jpg\" width=\"650\" height=\"350\">"
   ],
   "metadata": {
    "collapsed": false
   }
  },
  {
   "cell_type": "code",
   "execution_count": 5,
   "outputs": [],
   "source": [
    "msg = AgentMessage(sender=agent_a.uuid, receiver=agent_b.uuid)"
   ],
   "metadata": {
    "collapsed": false
   }
  },
  {
   "cell_type": "markdown",
   "source": [
    "After Agent A sends the message, Agent B does not receive that immediately.\n",
    "The message should go to Scheduler's mail_queue, which is a deque, just like the mailbox in front of the post office, in the old times"
   ],
   "metadata": {
    "collapsed": false
   }
  },
  {
   "cell_type": "markdown",
   "source": [
    "<img src=\"figs/old_mail_box.jpg\" width=\"30%\" height=\"30%\">"
   ],
   "metadata": {
    "collapsed": false
   }
  },
  {
   "cell_type": "code",
   "execution_count": 6,
   "metadata": {},
   "outputs": [],
   "source": [
    "agent_a.send(msg)\n",
    "assert isinstance(scheduler.mail_queue[0], AgentMessage)\n",
    "assert scheduler.mail_queue[0].sender == '007' and scheduler.mail_queue[0].receiver == '009'"
   ]
  },
  {
   "cell_type": "markdown",
   "metadata": {},
   "source": [
    "Scheduler will dispatch the message to agents via function process_mail_queue\n",
    "the message will be delivered to inbox of Agent B\n",
    "note the Scheduler uses Agent uuid to find the right recipient"
   ]
  },
  {
   "cell_type": "markdown",
   "source": [
    "<img src=\"figs/post_dog.jpg\" width=300 height=450>"
   ],
   "metadata": {
    "collapsed": false
   }
  },
  {
   "cell_type": "code",
   "execution_count": 7,
   "metadata": {},
   "outputs": [],
   "source": [
    "assert len(agent_b.inbox) == 0\n",
    "scheduler.process_mail_queue()\n",
    "assert isinstance(agent_b.inbox[0], AgentMessage)\n",
    "assert agent_b.inbox[0].sender=='007' and agent_b.inbox[0].receiver =='009'"
   ]
  },
  {
   "cell_type": "markdown",
   "metadata": {},
   "source": [
    "now that the message has been delivered,\n",
    "Agent B needs to get the message from its inbox"
   ]
  },
  {
   "cell_type": "markdown",
   "source": [
    "<img src=\"figs/mail_box.jpg\">"
   ],
   "metadata": {
    "collapsed": false
   }
  },
  {
   "cell_type": "code",
   "execution_count": 8,
   "metadata": {},
   "outputs": [],
   "source": [
    "msg = agent_b.receive()\n",
    "assert msg.sender == '007' and msg.receiver == '009'\n",
    "assert len(agent_b.inbox) == 0"
   ]
  },
  {
   "cell_type": "markdown",
   "metadata": {},
   "source": [
    "Now the message has been successfully delivered from Agent A (007) to Agent B (009), but then what?\n",
    "Let us say, we want Agent B to \"laugh\" after received the message from Agent A.\n",
    "To achieve this, we need to do three things:\n",
    "1. give AgentMessage a topic, so that Agent B can recognize this specific message, see \"topic\" in agent message\n",
    "2. register the function 'laugh' in Agent B, see \"self.operations\" below\n",
    "3. After Scheduler delivered the messages to Agent B's inbox, Agent B needs to read those message one by one and react to it, see \"self.update\""
   ]
  },
  {
   "cell_type": "code",
   "execution_count": 9,
   "metadata": {},
   "outputs": [],
   "source": [
    "class TestAgent(Agent):\n",
    "\n",
    "    def __init__(self, uuid):\n",
    "        super().__init__(uuid=uuid)\n",
    "        self.operations['A funny joke'] = self.laugh\n",
    "\n",
    "    def update(self):\n",
    "        while self.messages:\n",
    "            msg = self.receive()\n",
    "            operation = self.operations.get(msg.topic)\n",
    "            if operation is not None:\n",
    "               operation(msg)\n",
    "            else:\n",
    "                print(f\"don't know what to do with {msg.topic}\")\n",
    "\n",
    "    def laugh(self, msg):\n",
    "        print(f\"{msg.receiver} is laughing\")\n"
   ]
  },
  {
   "cell_type": "markdown",
   "metadata": {},
   "source": [
    "Let's create two new agents and add them to a scheduler"
   ]
  },
  {
   "cell_type": "code",
   "execution_count": 10,
   "metadata": {},
   "outputs": [
    {
     "name": "stderr",
     "output_type": "stream",
     "text": [
      "Registering agent TestAgent 007\n",
      "007 subscribing to 007 on all topics.\n",
      "007 subscribing to TestAgent for all agents.\n",
      "Registering agent TestAgent 009\n",
      "009 subscribing to 009 on all topics.\n",
      "009 subscribing to TestAgent for all agents.\n"
     ]
    }
   ],
   "source": [
    "agent_a = TestAgent(uuid='007')\n",
    "agent_b = TestAgent(uuid='009')\n",
    "scheduler = Scheduler()\n",
    "scheduler.add(agent_a)\n",
    "scheduler.add(agent_b)"
   ]
  },
  {
   "cell_type": "markdown",
   "metadata": {},
   "source": [
    "Now let Agent A send a message that is \"A funny joke\" to Agent B"
   ]
  },
  {
   "cell_type": "code",
   "execution_count": 11,
   "metadata": {},
   "outputs": [
    {
     "name": "stdout",
     "output_type": "stream",
     "text": [
      "009 is laughing\n"
     ]
    }
   ],
   "source": [
    "msg = AgentMessage(sender=agent_a, receiver=agent_b, topic='A funny joke')\n",
    "agent_a.send(msg)\n",
    "scheduler.process_mail_queue()\n",
    "agent_b.update()"
   ]
  },
  {
   "cell_type": "markdown",
   "source": [
    "See, Agent B is laughing!"
   ],
   "metadata": {
    "collapsed": false
   }
  },
  {
   "cell_type": "markdown",
   "source": [
    "<img src=\"figs/laugh.png\" width=\"175\" height=\"150\">"
   ],
   "metadata": {
    "collapsed": false
   }
  },
  {
   "cell_type": "markdown",
   "metadata": {},
   "source": [
    "What if Agent A sends something else, like a picture of a dog? or even just a bare message no topic, an empty envelope?"
   ]
  },
  {
   "cell_type": "code",
   "execution_count": 12,
   "metadata": {},
   "outputs": [
    {
     "name": "stdout",
     "output_type": "stream",
     "text": [
      "don't know what to do with A picture of a dog\n"
     ]
    }
   ],
   "source": [
    "msg = AgentMessage(sender=agent_a, receiver=agent_b, topic='A picture of a dog')\n",
    "agent_a.send(msg)\n",
    "scheduler.process_mail_queue()\n",
    "agent_b.update()"
   ]
  },
  {
   "cell_type": "code",
   "execution_count": 13,
   "metadata": {},
   "outputs": [
    {
     "name": "stdout",
     "output_type": "stream",
     "text": [
      "don't know what to do with AgentMessage\n"
     ]
    }
   ],
   "source": [
    "msg = AgentMessage(sender=agent_a, receiver=agent_b)\n",
    "agent_a.send(msg)\n",
    "scheduler.process_mail_queue()\n",
    "agent_b.update()"
   ]
  },
  {
   "cell_type": "markdown",
   "metadata": {},
   "source": [
    "See, Agent B does not know what to do with \"A picture of a dog\", why?\n",
    "Because you did not register \"A picture of a dog\" with any function in \"self.operations\".\n",
    "Now, very important thing to remember if you want a message to trigger a function of an agent\n",
    "The message topic must be registered as the key, and the function must be registered as value in **opertaions**, which is a dictionary"
   ]
  },
  {
   "cell_type": "markdown",
   "source": [
    "<img src=\"figs\\message_function_pair.png\">"
   ],
   "metadata": {
    "collapsed": false
   }
  },
  {
   "cell_type": "markdown",
   "source": [
    "if you look closely, when you don't give any topic, the printout simply says \"don't know what to do with AgentMessage\"\n",
    "Is that a coincidence? that the topic is the class name?\n",
    "No! In maslite, if you don't give topic as input, then the topic will be set as class name of the message by default, see \"__init__\" of AgentMessage in maslite\n",
    "This brings us a more powerful way of sending messages, see below"
   ],
   "metadata": {
    "collapsed": false
   }
  },
  {
   "cell_type": "code",
   "execution_count": 14,
   "metadata": {},
   "outputs": [],
   "source": [
    "class Joke(AgentMessage):\n",
    "\n",
    "    def __init__(self, sender, receiver):\n",
    "        super().__init__(sender, receiver)\n",
    "\n",
    "\n",
    "class TestAgent(Agent):\n",
    "\n",
    "    def __init__(self, uuid):\n",
    "        super().__init__(uuid=uuid)\n",
    "        self.operations[Joke.__name__] = self.laugh\n",
    "\n",
    "    def update(self):\n",
    "        while self.messages:\n",
    "            msg = self.receive()\n",
    "            operation = self.operations.get(msg.topic)\n",
    "            if operation is not None:\n",
    "               operation(msg)\n",
    "            else:\n",
    "                print(f\"don't know what to do with {msg.topic}\")\n",
    "\n",
    "    def laugh(self, msg):\n",
    "        print(f\"{msg.receiver} is laughing\")\n"
   ]
  },
  {
   "cell_type": "code",
   "execution_count": 15,
   "metadata": {},
   "outputs": [
    {
     "name": "stderr",
     "output_type": "stream",
     "text": [
      "Registering agent TestAgent 007\n",
      "007 subscribing to 007 on all topics.\n",
      "007 subscribing to TestAgent for all agents.\n",
      "Registering agent TestAgent 009\n",
      "009 subscribing to 009 on all topics.\n",
      "009 subscribing to TestAgent for all agents.\n"
     ]
    }
   ],
   "source": [
    "agent_a = TestAgent(uuid='007')\n",
    "agent_b = TestAgent(uuid='009')\n",
    "scheduler = Scheduler()\n",
    "scheduler.add(agent_a)\n",
    "scheduler.add(agent_b)"
   ]
  },
  {
   "cell_type": "code",
   "execution_count": 16,
   "metadata": {},
   "outputs": [
    {
     "name": "stdout",
     "output_type": "stream",
     "text": [
      "009 is laughing\n"
     ]
    }
   ],
   "source": [
    "msg = Joke(sender=agent_a, receiver=agent_b)\n",
    "assert msg.topic == Joke.__name__\n",
    "agent_a.send(msg)\n",
    "scheduler.process_mail_queue()\n",
    "agent_b.update()"
   ]
  },
  {
   "cell_type": "markdown",
   "metadata": {},
   "source": [
    "**Take Home Question: why this method is more powerful?**"
   ]
  },
  {
   "cell_type": "markdown",
   "metadata": {},
   "source": [
    "Agent B finds the joke funny and laughed, and he wants to be nice, so thinks he should write a joke to Agent A as well.\n",
    "Agent A feels the same, then..."
   ]
  },
  {
   "cell_type": "code",
   "execution_count": 17,
   "metadata": {},
   "outputs": [],
   "source": [
    "class Joke(AgentMessage):\n",
    "\n",
    "    def __init__(self, sender, receiver):\n",
    "        super().__init__(sender, receiver)\n",
    "\n",
    "\n",
    "class TestAgent(Agent):\n",
    "\n",
    "    def __init__(self, uuid):\n",
    "        super().__init__(uuid=uuid)\n",
    "        self.operations[Joke.__name__] = self.laugh\n",
    "\n",
    "    def update(self):\n",
    "        while self.messages:\n",
    "            msg = self.receive()\n",
    "            operation = self.operations.get(msg.topic)\n",
    "            if operation is not None:\n",
    "               operation(msg)\n",
    "            else:\n",
    "                print(f\"don't know what to do with {msg.topic}\")\n",
    "\n",
    "    def laugh(self, msg):\n",
    "        print(f\"{msg.receiver} is laughing\")\n",
    "        self.send(Joke(sender=self.uuid, receiver=msg.sender))"
   ]
  },
  {
   "cell_type": "code",
   "execution_count": 18,
   "metadata": {},
   "outputs": [
    {
     "name": "stderr",
     "output_type": "stream",
     "text": [
      "Registering agent TestAgent 007\n",
      "007 subscribing to 007 on all topics.\n",
      "007 subscribing to TestAgent for all agents.\n",
      "Registering agent TestAgent 009\n",
      "009 subscribing to 009 on all topics.\n",
      "009 subscribing to TestAgent for all agents.\n"
     ]
    }
   ],
   "source": [
    "agent_a = TestAgent(uuid='007')\n",
    "agent_b = TestAgent(uuid='009')\n",
    "scheduler = Scheduler()\n",
    "scheduler.add(agent_a)\n",
    "scheduler.add(agent_b)"
   ]
  },
  {
   "cell_type": "code",
   "execution_count": 19,
   "metadata": {},
   "outputs": [
    {
     "name": "stdout",
     "output_type": "stream",
     "text": [
      "009 is laughing\n"
     ]
    }
   ],
   "source": [
    "msg = Joke(sender=agent_a, receiver=agent_b)\n",
    "agent_a.send(msg)\n",
    "scheduler.process_mail_queue()\n",
    "agent_b.update()"
   ]
  },
  {
   "cell_type": "code",
   "execution_count": 20,
   "metadata": {},
   "outputs": [
    {
     "name": "stdout",
     "output_type": "stream",
     "text": [
      "007 is laughing\n"
     ]
    }
   ],
   "source": [
    "scheduler.process_mail_queue()\n",
    "agent_a.update()"
   ]
  },
  {
   "cell_type": "code",
   "execution_count": 21,
   "metadata": {},
   "outputs": [
    {
     "name": "stdout",
     "output_type": "stream",
     "text": [
      "009 is laughing\n"
     ]
    }
   ],
   "source": [
    "scheduler.process_mail_queue()\n",
    "agent_b.update()"
   ]
  },
  {
   "cell_type": "markdown",
   "metadata": {},
   "source": [
    "Now, 007 and 009 are going to keep laughing as long as scheduler_4 is alive...\n",
    "This is the magical chain reaction!"
   ]
  },
  {
   "cell_type": "markdown",
   "source": [
    "<img src=\"figs\\action_reaction.gif\">"
   ],
   "metadata": {
    "collapsed": false
   }
  },
  {
   "cell_type": "markdown",
   "source": [
    "in certain cases, the whole system can be triggered by only one message"
   ],
   "metadata": {
    "collapsed": false
   }
  },
  {
   "cell_type": "markdown",
   "source": [
    "<img src=\"figs\\dominos.gif\">"
   ],
   "metadata": {
    "collapsed": false
   }
  },
  {
   "cell_type": "markdown",
   "source": [
    "<img src=\"figs\\chain_reaction.gif\">"
   ],
   "metadata": {
    "collapsed": false
   }
  },
  {
   "cell_type": "markdown",
   "source": [
    "Another trick is that an agent can send a message to its own as well!\n",
    "007 never stops laughing"
   ],
   "metadata": {
    "collapsed": false
   }
  },
  {
   "cell_type": "markdown",
   "source": [
    "<img src=\"figs\\infinity.gif\">"
   ],
   "metadata": {
    "collapsed": false
   }
  },
  {
   "cell_type": "code",
   "execution_count": 22,
   "outputs": [
    {
     "name": "stdout",
     "output_type": "stream",
     "text": [
      "007 is laughing\n",
      "007 is laughing\n",
      "007 is laughing\n"
     ]
    }
   ],
   "source": [
    "msg = Joke(sender=agent_a, receiver=agent_a)\n",
    "agent_a.send(msg)\n",
    "scheduler.process_mail_queue()\n",
    "agent_a.update()\n",
    "scheduler.process_mail_queue()\n",
    "agent_a.update()"
   ],
   "metadata": {
    "collapsed": false
   }
  },
  {
   "cell_type": "markdown",
   "source": [
    "Now, the two agents are getting alone with each other, one day agents A decides to send a gift card that worth $ 20 to Agent B together with the regular jokes..."
   ],
   "metadata": {
    "collapsed": false
   }
  },
  {
   "cell_type": "code",
   "execution_count": 23,
   "metadata": {},
   "outputs": [],
   "source": [
    "class Joke(AgentMessage):\n",
    "\n",
    "    def __init__(self, sender, receiver, gift_card_dollars):\n",
    "        super().__init__(sender, receiver)\n",
    "        self.gift_card_dollars = gift_card_dollars\n",
    "\n",
    "\n",
    "class TestAgent(Agent):\n",
    "\n",
    "    def __init__(self, uuid, dollars):\n",
    "        super().__init__(uuid=uuid)\n",
    "        self.dollars = dollars\n",
    "        self.operations[Joke.__name__] = self.receive_joke\n",
    "\n",
    "    def update(self):\n",
    "        while self.messages:\n",
    "            msg = self.receive()\n",
    "            operation = self.operations.get(msg.topic)\n",
    "            if operation is not None:\n",
    "               operation(msg)\n",
    "            else:\n",
    "                print(f\"don't know what to do with {msg.topic}\")\n",
    "\n",
    "    def send_joke(self, gift_card_dollars, agent_uuid):\n",
    "        self.dollars -= gift_card_dollars\n",
    "        self.send(Joke(sender=self.uuid, receiver=agent_uuid, gift_card_dollars=gift_card_dollars))\n",
    "\n",
    "    def receive_joke(self, msg):\n",
    "        print(f\"{msg.receiver} is laughing\")\n",
    "        self.dollars += msg.gift_card_dollars\n",
    "        gift_card_dollars = random.randint(0, self.dollars)\n",
    "        self.send_joke(gift_card_dollars, msg.sender)"
   ]
  },
  {
   "cell_type": "code",
   "execution_count": 24,
   "metadata": {},
   "outputs": [
    {
     "name": "stderr",
     "output_type": "stream",
     "text": [
      "Registering agent TestAgent 007\n",
      "007 subscribing to 007 on all topics.\n",
      "007 subscribing to TestAgent for all agents.\n",
      "Registering agent TestAgent 009\n",
      "009 subscribing to 009 on all topics.\n",
      "009 subscribing to TestAgent for all agents.\n"
     ]
    }
   ],
   "source": [
    "agent_a = TestAgent(uuid='007', dollars=10000)\n",
    "agent_b = TestAgent(uuid='009', dollars=10000)\n",
    "scheduler = Scheduler()\n",
    "scheduler.add(agent_a)\n",
    "scheduler.add(agent_b)"
   ]
  },
  {
   "cell_type": "code",
   "execution_count": 25,
   "metadata": {},
   "outputs": [
    {
     "name": "stdout",
     "output_type": "stream",
     "text": [
      "009 is laughing\n"
     ]
    }
   ],
   "source": [
    "agent_a.send_joke(2000, agent_b.uuid)\n",
    "scheduler.process_mail_queue()\n",
    "agent_b.update()"
   ]
  },
  {
   "cell_type": "markdown",
   "metadata": {},
   "source": [
    "Not sure if Agent B is laughing because of the joke or money"
   ]
  },
  {
   "cell_type": "markdown",
   "source": [
    "<img src=\"figs\\counting_money.gif\">"
   ],
   "metadata": {
    "collapsed": false
   }
  },
  {
   "cell_type": "markdown",
   "source": [
    "Now lets check the dollars"
   ],
   "metadata": {
    "collapsed": false
   }
  },
  {
   "cell_type": "code",
   "execution_count": 26,
   "metadata": {},
   "outputs": [
    {
     "name": "stdout",
     "output_type": "stream",
     "text": [
      "007 is laughing\n"
     ]
    }
   ],
   "source": [
    "assert agent_a.dollars == 8000\n",
    "money_agent_b_sent = scheduler.mail_queue[0].gift_card_dollars\n",
    "assert agent_b.dollars == 10000 + 2000 - money_agent_b_sent\n",
    "scheduler.process_mail_queue()\n",
    "agent_a.update()\n",
    "assert agent_a.dollars == 10000 - 2000 + money_agent_b_sent - scheduler.mail_queue[0].gift_card_dollars"
   ]
  },
  {
   "cell_type": "markdown",
   "metadata": {},
   "source": [
    "Hope you learned two tricks\n",
    "1. use attributes of AgentMessage to carry important information (money, of course)\n",
    "2. pairwise receive and send functions (only if you are willing to give money back, of course)"
   ]
  },
  {
   "cell_type": "markdown",
   "metadata": {},
   "source": [
    "Now, Agent A finds herself very good at telling jokes after practicing with Agent B, she wants to start a magazine business, the magazine's name is \"50 jokes you must know\"\n",
    "Agent B's friends Agent C, D, E, F are all very interested in reading and laughing, Agent A can continue to send jokes one by one.\n",
    "But Scheduler offers another powerful service, **Broadcast**"
   ]
  },
  {
   "cell_type": "markdown",
   "metadata": {},
   "source": [
    "To create a broadcast, we need to create a broadcast message. A broadcast message is different from a direct communication message, **it has a topic and no receiver**.\n",
    "For broadcast message to work, we must implement a suitable **copy** method.\n",
    "Make sure you are copying the right thing, otherwise you will find yourself in a wierd bug"
   ]
  },
  {
   "cell_type": "code",
   "execution_count": 27,
   "metadata": {},
   "outputs": [],
   "source": [
    "class FunnyJokesMagazine(AgentMessage):\n",
    "    def __init__(self, sender, topic):\n",
    "        super().__init__(sender=sender, topic=topic)\n",
    "\n",
    "    def copy(self):\n",
    "        return FunnyJokesMagazine(sender=self.sender, topic=self.topic)\n"
   ]
  },
  {
   "cell_type": "markdown",
   "metadata": {},
   "source": [
    "Broadcasts are subscription based. Therefore, for Agent B and his friends to enjoy Agent A's magazine, each agent must subscribe first. see the **setup** function"
   ]
  },
  {
   "cell_type": "code",
   "execution_count": 28,
   "metadata": {},
   "outputs": [],
   "source": [
    "class TestAgent(Agent):\n",
    "\n",
    "    def __init__(self, uuid):\n",
    "        super().__init__(uuid=uuid)\n",
    "        self.operations[\"50 jokes you must know\"] = self.laugh\n",
    "\n",
    "    def setup(self):\n",
    "        self.subscribe(topic=\"50 jokes you must know\")\n",
    "\n",
    "    def update(self):\n",
    "        while self.messages:\n",
    "            msg = self.receive()\n",
    "            operation = self.operations.get(msg.topic)\n",
    "            if operation is not None:\n",
    "               operation(msg)\n",
    "            else:\n",
    "                print(f\"don't know what to do with {msg.topic}\")\n",
    "\n",
    "    def laugh(self, msg):\n",
    "        print(f\"Agent {self.uuid} is laughing\")"
   ]
  },
  {
   "cell_type": "code",
   "execution_count": 29,
   "metadata": {},
   "outputs": [],
   "source": [
    "agent_a = TestAgent('A')\n",
    "agent_b = TestAgent('B')\n",
    "agent_c = TestAgent('C')\n",
    "agent_d = TestAgent('D')\n",
    "agent_e = TestAgent('E')\n",
    "agent_f = TestAgent('F')"
   ]
  },
  {
   "cell_type": "code",
   "execution_count": 30,
   "metadata": {},
   "outputs": [
    {
     "name": "stderr",
     "output_type": "stream",
     "text": [
      "Registering agent TestAgent A\n",
      "A subscribing to A on all topics.\n",
      "A subscribing to TestAgent for all agents.\n",
      "A subscribing to 50 jokes you must know for all agents.\n",
      "Registering agent TestAgent B\n",
      "B subscribing to B on all topics.\n",
      "B subscribing to TestAgent for all agents.\n",
      "B subscribing to 50 jokes you must know for all agents.\n",
      "Registering agent TestAgent C\n",
      "C subscribing to C on all topics.\n",
      "C subscribing to TestAgent for all agents.\n",
      "C subscribing to 50 jokes you must know for all agents.\n",
      "Registering agent TestAgent D\n",
      "D subscribing to D on all topics.\n",
      "D subscribing to TestAgent for all agents.\n",
      "D subscribing to 50 jokes you must know for all agents.\n",
      "Registering agent TestAgent E\n",
      "E subscribing to E on all topics.\n",
      "E subscribing to TestAgent for all agents.\n",
      "E subscribing to 50 jokes you must know for all agents.\n",
      "Registering agent TestAgent F\n",
      "F subscribing to F on all topics.\n",
      "F subscribing to TestAgent for all agents.\n",
      "F subscribing to 50 jokes you must know for all agents.\n"
     ]
    }
   ],
   "source": [
    "scheduler = Scheduler()\n",
    "for agent in [agent_a, agent_b, agent_c, agent_d, agent_e, agent_f]:\n",
    "    scheduler.add(agent)"
   ]
  },
  {
   "cell_type": "code",
   "execution_count": 31,
   "metadata": {},
   "outputs": [],
   "source": [
    "msg = FunnyJokesMagazine(sender=agent_a.uuid, topic=\"50 jokes you must know\")\n",
    "agent_a.send(msg)\n",
    "scheduler.process_mail_queue()"
   ]
  },
  {
   "cell_type": "markdown",
   "metadata": {},
   "source": [
    "Now Agent B and all his friends are enjoying Agent A's funny jokes using Broadcast."
   ]
  },
  {
   "cell_type": "code",
   "execution_count": 32,
   "metadata": {},
   "outputs": [
    {
     "name": "stdout",
     "output_type": "stream",
     "text": [
      "Agent B is laughing\n",
      "Agent C is laughing\n",
      "Agent D is laughing\n",
      "Agent E is laughing\n",
      "Agent F is laughing\n"
     ]
    }
   ],
   "source": [
    "agent_b.update()\n",
    "agent_c.update()\n",
    "agent_d.update()\n",
    "agent_e.update()\n",
    "agent_f.update()"
   ]
  },
  {
   "cell_type": "markdown",
   "metadata": {},
   "source": [
    "Now let's understand more about the concept of default topic in AgentMessage. To understand this, consider the below scenario"
   ]
  },
  {
   "cell_type": "markdown",
   "metadata": {},
   "source": [
    "Agent A's jokes are widely popular in the Kingdom of MASlite. Majority of agents subscribed to Agent A's Joke service.\n",
    "Recently a couple of new agents have migrated from other kingdom into MASlite, and they came to know about Agent A's jokes popularity.\n",
    "There are different types of joke services (AgentMessage topic) which Agent A provides such as DailyJokes, WeeklyJokes, MonthlyTopTenJokes etc.\n",
    "New residents are confused witch joke service (AgentMessage topic) to subscribe, so Agent A recommends to subscribe is default joke service (AgentMessage with no specific topic)\n",
    "which entertains its subscribers with a new joke every Monday and this default service is free of cost.\n",
    "So the new residents happily agreed and took the default joke subscription (AgentMessage with no specific topic)."
   ]
  },
  {
   "cell_type": "code",
   "execution_count": 33,
   "metadata": {},
   "outputs": [],
   "source": [
    "class DefaultJokesService(AgentMessage):\n",
    "\n",
    "    def __init__(self, sender, topic=None):\n",
    "        super().__init__(sender, sender, topic)\n",
    "\n",
    "    def copy(self):\n",
    "        return DefaultJokesService(sender=self.sender, topic=self.topic)\n",
    "\n",
    "\n",
    "class TestAgent(Agent):\n",
    "\n",
    "    def __init__(self, uuid):\n",
    "        super().__init__(uuid=uuid)\n",
    "        self.operations[DefaultJokesService.__name__] = self.thank_you\n",
    "        self.operations[\"50 funny jokes you should know\"] = self.laugh\n",
    "\n",
    "    def setup(self):\n",
    "        self.subscribe(DefaultJokesService.__name__)\n",
    "        self.subscribe(\"50 funny jokes you should know\")\n",
    "\n",
    "    def update(self):\n",
    "        while self.messages:\n",
    "            msg = self.receive()\n",
    "            operation = self.operations.get(msg.topic)\n",
    "            if operation is not None:\n",
    "               operation(msg)\n",
    "            else:\n",
    "                print(f\"don't know what to do with {msg.topic}\")\n",
    "\n",
    "    def thank_you(self, msg):\n",
    "        print(f\"Thank you Agent {msg.sender}, looking forward to your jokes.\")\n",
    "\n",
    "    def laugh(self, msg):\n",
    "        print(f\"Agent {self.uuid} is laughing\")\n"
   ]
  },
  {
   "cell_type": "code",
   "execution_count": 34,
   "metadata": {},
   "outputs": [],
   "source": [
    "agent_a = TestAgent('A')\n",
    "agent_x = TestAgent('New X')\n",
    "agent_y = TestAgent('New Y')\n",
    "agent_z = TestAgent('New Z')"
   ]
  },
  {
   "cell_type": "code",
   "execution_count": 35,
   "metadata": {},
   "outputs": [
    {
     "name": "stderr",
     "output_type": "stream",
     "text": [
      "Registering agent TestAgent A\n",
      "A subscribing to A on all topics.\n",
      "A subscribing to TestAgent for all agents.\n",
      "A subscribing to DefaultJokesService on all topics.\n",
      "A subscribing to 50 funny jokes you should know on all topics.\n",
      "Registering agent TestAgent New X\n",
      "New X subscribing to New X on all topics.\n",
      "New X subscribing to TestAgent for all agents.\n",
      "New X subscribing to DefaultJokesService on all topics.\n",
      "New X subscribing to 50 funny jokes you should know on all topics.\n",
      "Registering agent TestAgent New Y\n",
      "New Y subscribing to New Y on all topics.\n",
      "New Y subscribing to TestAgent for all agents.\n",
      "New Y subscribing to DefaultJokesService on all topics.\n",
      "New Y subscribing to 50 funny jokes you should know on all topics.\n",
      "Registering agent TestAgent New Z\n",
      "New Z subscribing to New Z on all topics.\n",
      "New Z subscribing to TestAgent for all agents.\n",
      "New Z subscribing to DefaultJokesService on all topics.\n",
      "New Z subscribing to 50 funny jokes you should know on all topics.\n"
     ]
    }
   ],
   "source": [
    "scheduler = Scheduler()\n",
    "for agent in [agent_a, agent_x, agent_y, agent_z]:\n",
    "    scheduler.add(agent)"
   ]
  },
  {
   "cell_type": "code",
   "execution_count": 36,
   "metadata": {},
   "outputs": [
    {
     "name": "stdout",
     "output_type": "stream",
     "text": [
      "Thank you Agent A, looking forward to your jokes.\n",
      "Thank you Agent A, looking forward to your jokes.\n",
      "Thank you Agent A, looking forward to your jokes.\n"
     ]
    }
   ],
   "source": [
    "msg = DefaultJokesService(sender=agent_a.uuid)\n",
    "agent_a.send(msg)\n",
    "scheduler.process_mail_queue()\n",
    "agent_x.update()\n",
    "agent_y.update()\n",
    "agent_z.update()"
   ]
  },
  {
   "cell_type": "markdown",
   "source": [
    "Now agent_a started to send the jokes to its subscriber"
   ],
   "metadata": {
    "collapsed": false
   }
  },
  {
   "cell_type": "code",
   "execution_count": 37,
   "outputs": [
    {
     "name": "stdout",
     "output_type": "stream",
     "text": [
      "50 funny jokes you should know\n",
      "Agent New X is laughing\n",
      "Agent New Y is laughing\n",
      "Agent New Z is laughing\n"
     ]
    }
   ],
   "source": [
    "msg = DefaultJokesService(sender=agent_a.uuid, topic='50 funny jokes you should know')\n",
    "print(msg.topic)\n",
    "agent_a.send(msg)\n",
    "scheduler.process_mail_queue()\n",
    "agent_x.update()\n",
    "agent_y.update()\n",
    "agent_z.update()"
   ],
   "metadata": {
    "collapsed": false
   }
  },
  {
   "cell_type": "markdown",
   "source": [
    "**remember the importance of topic in the agent message**"
   ],
   "metadata": {
    "collapsed": false
   }
  },
  {
   "cell_type": "markdown",
   "source": [
    "Time flies, and it is the year **1984** for Maslite Kingdom...\n",
    "The residents are reading jokes, however, big brother is watching..."
   ],
   "metadata": {
    "collapsed": false
   }
  },
  {
   "cell_type": "markdown",
   "source": [
    "<img src=\"figs\\1984.jpg\">"
   ],
   "metadata": {
    "collapsed": false
   }
  },
  {
   "cell_type": "code",
   "execution_count": 38,
   "outputs": [],
   "source": [
    "class Joke(AgentMessage):\n",
    "\n",
    "    def __init__(self, sender, receiver):\n",
    "        super().__init__(sender, receiver)\n",
    "\n",
    "    def copy(self):\n",
    "        return Joke(self.sender, self.receiver)\n",
    "\n",
    "\n",
    "class TestAgent(Agent):\n",
    "\n",
    "    def __init__(self, uuid):\n",
    "        super().__init__(uuid=uuid)\n",
    "        self.operations[Joke.__name__] = self.laugh\n",
    "\n",
    "    def update(self):\n",
    "        while self.messages:\n",
    "            msg = self.receive()\n",
    "            operation = self.operations.get(msg.topic)\n",
    "            if operation is not None:\n",
    "               operation(msg)\n",
    "            else:\n",
    "                print(f\"don't know what to do with {msg.topic}\")\n",
    "\n",
    "    def laugh(self, msg):\n",
    "        print(f\"{msg.receiver} is laughing\")\n",
    "\n",
    "\n",
    "class BigBrother(Agent):\n",
    "\n",
    "    def __init__(self, uuid):\n",
    "        super().__init__(uuid=uuid)\n",
    "        self.operations[Joke.__name__] = self.read\n",
    "\n",
    "    def setup(self):\n",
    "        self.subscribe(Joke.__name__)\n",
    "\n",
    "    def update(self):\n",
    "        while self.messages:\n",
    "            msg = self.receive()\n",
    "            operation = self.operations.get(msg.topic)\n",
    "            if operation is not None:\n",
    "               operation(msg)\n",
    "            else:\n",
    "                print(f\"don't know what to do with {msg.topic}\")\n",
    "\n",
    "    def read(self, msg):\n",
    "        print(f\"{self.uuid} says to {msg.sender} and {msg.receiver}: Big Brother is watching you!\")\n"
   ],
   "metadata": {
    "collapsed": false
   }
  },
  {
   "cell_type": "code",
   "execution_count": 39,
   "outputs": [
    {
     "name": "stderr",
     "output_type": "stream",
     "text": [
      "Registering agent TestAgent 007\n",
      "007 subscribing to 007 on all topics.\n",
      "007 subscribing to TestAgent for all agents.\n",
      "Registering agent TestAgent 009\n",
      "009 subscribing to 009 on all topics.\n",
      "009 subscribing to TestAgent for all agents.\n",
      "Registering agent BigBrother KGB\n",
      "KGB subscribing to KGB on all topics.\n",
      "KGB subscribing to BigBrother for all agents.\n",
      "KGB subscribing to Joke on all topics.\n"
     ]
    }
   ],
   "source": [
    "agent_a = TestAgent(uuid='007')\n",
    "agent_b = TestAgent(uuid='009')\n",
    "agent_c = BigBrother(uuid='KGB')\n",
    "scheduler = Scheduler()\n",
    "scheduler.add(agent_a)\n",
    "scheduler.add(agent_b)\n",
    "scheduler.add(agent_c)"
   ],
   "metadata": {
    "collapsed": false
   }
  },
  {
   "cell_type": "code",
   "execution_count": 40,
   "outputs": [
    {
     "name": "stdout",
     "output_type": "stream",
     "text": [
      "009 is laughing\n",
      "KGB says to 007 and 009: Big Brother is watching you!\n"
     ]
    }
   ],
   "source": [
    "msg = Joke(sender=agent_a.uuid, receiver=agent_b.uuid)\n",
    "agent_a.send(msg)\n",
    "scheduler.process_mail_queue()\n",
    "for agent in scheduler.agents.values():\n",
    "    agent.update()"
   ],
   "metadata": {
    "collapsed": false
   }
  },
  {
   "cell_type": "markdown",
   "source": [
    "Maslite has a hidden feature, an agent can subscribe to the \"private\" message between other agents without the consent of the designated sender and receiver"
   ],
   "metadata": {
    "collapsed": false
   }
  },
  {
   "cell_type": "markdown",
   "source": [
    "<img src=\"figs\\fear.png\" width=\"100\" height=\"100\">"
   ],
   "metadata": {
    "collapsed": false
   }
  },
  {
   "cell_type": "markdown",
   "metadata": {},
   "source": [
    "Now we covered the basics of what you should master in maslite, let us go pro!\n",
    "It seems what we have seen so far happens all at once, and to run a simulation, we missed a very important concept**Time**"
   ]
  },
  {
   "cell_type": "markdown",
   "source": [
    "<img src=\"figs\\quote_about_time.png\">"
   ],
   "metadata": {
    "collapsed": false
   }
  },
  {
   "cell_type": "markdown",
   "source": [
    "**How time flows in the kingdom of MASlite?** AKA **How does MASlite advance the clock for simulation?**\n",
    "set alarm!"
   ],
   "metadata": {
    "collapsed": false
   }
  },
  {
   "cell_type": "markdown",
   "source": [
    "<img src=\"figs\\alarm.gif\">"
   ],
   "metadata": {
    "collapsed": false
   }
  },
  {
   "cell_type": "markdown",
   "source": [
    "To understand the concept of set_alarm in MASlite, let's consider the following scenario.\n",
    "Agent A is giving amazon coupon (10 - 100) dollars to all his **PopularJokesMagazine** subscribers during the summer sale in MASlite Kingdom.\n",
    "The coupon is sent to the subscribers after 5 seconds after they receive the magazine.\n",
    "Don't ask how Agent A how does she do the timing so accurate, it is in MASlite Kingdom, ask the king."
   ],
   "metadata": {
    "collapsed": false
   }
  },
  {
   "cell_type": "code",
   "execution_count": 136,
   "metadata": {
    "ExecuteTime": {
     "end_time": "2023-06-05T10:33:19.005647200Z",
     "start_time": "2023-06-05T10:33:18.943124500Z"
    }
   },
   "outputs": [],
   "source": [
    "class PopularJokesMagazine(AgentMessage):\n",
    "\n",
    "    def __init__(self, sender, receiver, topic=None):\n",
    "        super().__init__(sender, receiver, topic)\n",
    "\n",
    "\n",
    "class TwentyDollarCoupon(AgentMessage):\n",
    "\n",
    "    def __init__(self, sender, receiver, topic=None):\n",
    "        super().__init__(sender, receiver, topic)\n",
    "        self.coupon = random.randint(10, 100)\n",
    "\n",
    "\n",
    "class TestAgent(Agent):\n",
    "\n",
    "    def __init__(self, uuid, coupon_cnt=0, coupon_val=0):\n",
    "        super().__init__(uuid=uuid)\n",
    "        self.coupon_cnt = coupon_cnt\n",
    "        self.coupon_val = coupon_val\n",
    "        self.operations[PopularJokesMagazine.__name__] = self.thank_you\n",
    "        self.operations[TwentyDollarCoupon.__name__] = self.coupon_received\n",
    "\n",
    "    def update(self):\n",
    "        while self.messages:\n",
    "            msg = self.receive()\n",
    "            operation = self.operations.get(msg.topic)\n",
    "            if operation is not None:\n",
    "               operation(msg)\n",
    "            else:\n",
    "                print(f\"don't know what to do with {msg.topic}\")\n",
    "\n",
    "    def thank_you(self, msg):\n",
    "        print(f\"Thank you Agent {msg.sender}, looking forward to your jokes and our coupon.\")\n",
    "\n",
    "    def coupon_received(self, msg):\n",
    "        self.coupon_val = msg.coupon\n",
    "        self.coupon_cnt += 1\n",
    "        print(f\"Thank you, I have received my ${self.coupon_val} coupon, now I have {self.coupon_cnt} coupons\")"
   ]
  },
  {
   "cell_type": "markdown",
   "source": [
    "Note that scheduler uses real time by default"
   ],
   "metadata": {
    "collapsed": false
   }
  },
  {
   "cell_type": "code",
   "execution_count": 137,
   "metadata": {
    "ExecuteTime": {
     "end_time": "2023-06-05T10:33:20.287072900Z",
     "start_time": "2023-06-05T10:33:20.224616700Z"
    }
   },
   "outputs": [
    {
     "name": "stderr",
     "output_type": "stream",
     "text": [
      "Registering agent TestAgent A\n",
      "A subscribing to A on all topics.\n",
      "A subscribing to TestAgent for all agents.\n",
      "Registering agent TestAgent B\n",
      "B subscribing to B on all topics.\n",
      "B subscribing to TestAgent for all agents.\n",
      "Registering agent TestAgent C\n",
      "C subscribing to C on all topics.\n",
      "C subscribing to TestAgent for all agents.\n",
      "Registering agent TestAgent D\n",
      "D subscribing to D on all topics.\n",
      "D subscribing to TestAgent for all agents.\n"
     ]
    }
   ],
   "source": [
    "agent_a = TestAgent('A')\n",
    "agent_b = TestAgent('B')\n",
    "agent_c = TestAgent('C')\n",
    "agent_d = TestAgent('D')\n",
    "scheduler = Scheduler(real_time=False)\n",
    "for agent in [agent_a, agent_b, agent_c, agent_d]:\n",
    "    scheduler.add(agent)"
   ]
  },
  {
   "cell_type": "markdown",
   "source": [
    "We can interpret the alarm as a message to the future receiver, or a pre-defined fate to an agent in the Kingdom of Maslite..."
   ],
   "metadata": {
    "collapsed": false
   }
  },
  {
   "cell_type": "markdown",
   "source": [
    "<img src=\"figs\\message_to_future_self.jpg\">"
   ],
   "metadata": {
    "collapsed": false
   }
  },
  {
   "cell_type": "markdown",
   "source": [
    "in another word, the agent will receive such message in the future, after \"alarm_time\" (check the function **set_alarm**)\n",
    "But where is the alarm message?\n",
    "As we did not see it in the mail queue for sure. And the mail queue only contains the message that needs to be sent at current time"
   ],
   "metadata": {
    "collapsed": false
   }
  },
  {
   "cell_type": "code",
   "execution_count": 138,
   "outputs": [],
   "source": [
    "msg = PopularJokesMagazine(sender=agent_a.uuid, receiver=agent_b.uuid)\n",
    "agent_a.send(msg)\n",
    "agent_a.set_alarm(alarm_time=5, alarm_message=TwentyDollarCoupon(sender=agent_a.uuid, receiver=agent_b.uuid)) # ignore_alarm_if_idle=False\n",
    "assert len(scheduler.mail_queue) == 1\n",
    "assert isinstance(scheduler.mail_queue[0], PopularJokesMagazine)"
   ],
   "metadata": {
    "collapsed": false
   }
  },
  {
   "cell_type": "markdown",
   "source": [
    "In the clock of Scheduler, there is an attribute called \"registry\", which is a dictionary.\n",
    "It contains the receiver's uuid as the key, and an object called \"AlarmRegistry\".\n",
    "The AlarmRegistry has an attribute \"alarm\" which is also a dictionary.\n",
    "It contains the alarm time and a list messages that the receiver should receive"
   ],
   "metadata": {
    "collapsed": false
   }
  },
  {
   "cell_type": "code",
   "execution_count": 139,
   "outputs": [],
   "source": [
    "assert isinstance(scheduler.clock.registry, dict)\n",
    "assert agent_b.uuid in scheduler.clock.registry\n",
    "assert isinstance(scheduler.clock.registry[agent_b.uuid], AlarmRegistry)\n",
    "alarm_registry = scheduler.clock.registry[agent_b.uuid]\n",
    "assert isinstance(alarm_registry.alarms, dict)\n",
    "assert 5 in alarm_registry.alarms\n",
    "list_of_messages_to_send_at_5_sec = alarm_registry.alarms[5]\n",
    "assert isinstance(list_of_messages_to_send_at_5_sec[0], TwentyDollarCoupon)\n",
    "assert len(list_of_messages_to_send_at_5_sec) == 1"
   ],
   "metadata": {
    "collapsed": false
   }
  },
  {
   "cell_type": "markdown",
   "source": [
    "Now, shall we move the clock forward?\n",
    "Tick Tock"
   ],
   "metadata": {
    "collapsed": false
   }
  },
  {
   "cell_type": "markdown",
   "source": [
    "<img src=\"figs/clock_tick_tock.gif\">"
   ],
   "metadata": {
    "collapsed": false
   }
  },
  {
   "cell_type": "code",
   "execution_count": 140,
   "outputs": [
    {
     "name": "stdout",
     "output_type": "stream",
     "text": [
      "0\n",
      "0\n"
     ]
    }
   ],
   "source": [
    "print(scheduler.clock.time)\n",
    "scheduler.clock.tick()\n",
    "print(scheduler.clock.time)"
   ],
   "metadata": {
    "collapsed": false
   }
  },
  {
   "cell_type": "markdown",
   "source": [
    "Wait a second, why the clock cannot move forward?\n",
    "Because you are not done at time 0, you still have message to deliver!"
   ],
   "metadata": {
    "collapsed": false
   }
  },
  {
   "cell_type": "code",
   "execution_count": 141,
   "outputs": [
    {
     "name": "stdout",
     "output_type": "stream",
     "text": [
      "Thank you Agent A, looking forward to your jokes and our coupon.\n"
     ]
    }
   ],
   "source": [
    "scheduler.process_mail_queue()\n",
    "agent_b.update()\n",
    "assert len(scheduler.mail_queue) == 0"
   ],
   "metadata": {
    "collapsed": false
   }
  },
  {
   "cell_type": "code",
   "execution_count": 142,
   "outputs": [
    {
     "name": "stdout",
     "output_type": "stream",
     "text": [
      "0\n",
      "0\n"
     ]
    }
   ],
   "source": [
    "print(scheduler.clock.time)\n",
    "scheduler.clock.tick()\n",
    "print(scheduler.clock.time)"
   ],
   "metadata": {
    "collapsed": false
   }
  },
  {
   "cell_type": "markdown",
   "source": [
    "Wait a second, why the clock still cannot move forward?\n",
    "Because you still have agents that needs update!\n",
    "Wait a second, we just updated agent \"B\"!\n",
    "Because when scheduler \"add\" an agent at the beginning, it added the agent to “needs_update\" by default, and you should clear that attribute after you have done with the update\n",
    "**Take Home Question, why does scheduler needs to do that?**"
   ],
   "metadata": {
    "collapsed": false
   }
  },
  {
   "cell_type": "code",
   "execution_count": 143,
   "outputs": [
    {
     "name": "stdout",
     "output_type": "stream",
     "text": [
      "0\n",
      "5\n"
     ]
    }
   ],
   "source": [
    "assert scheduler.needs_update == {'A', 'B', 'C', 'D'}\n",
    "scheduler.needs_update.clear()\n",
    "print(scheduler.clock.time)\n",
    "scheduler.clock.tick()\n",
    "print(scheduler.clock.time)"
   ],
   "metadata": {
    "collapsed": false
   }
  },
  {
   "cell_type": "markdown",
   "source": [
    "The clock finally moves!\n",
    "Now the time is at 5, would agent_b get his coupon as what agent a planned?\n",
    "Not yet, the message is still stored in the alarm registry, remember? We need to release them."
   ],
   "metadata": {
    "collapsed": false
   }
  },
  {
   "cell_type": "code",
   "execution_count": 144,
   "outputs": [],
   "source": [
    "assert len(scheduler.mail_queue) == 0\n",
    "scheduler.clock.release_alarm_messages()\n",
    "assert len(scheduler.mail_queue) == 1\n",
    "assert isinstance(scheduler.mail_queue[0], TwentyDollarCoupon)"
   ],
   "metadata": {
    "collapsed": false
   }
  },
  {
   "cell_type": "markdown",
   "source": [
    "Now the message is in the mail queue, the scheduler just need to dispatch the message and the agent needs to update it"
   ],
   "metadata": {
    "collapsed": false
   }
  },
  {
   "cell_type": "code",
   "execution_count": 145,
   "outputs": [
    {
     "name": "stdout",
     "output_type": "stream",
     "text": [
      "Thank you, I have received my $94 coupon, now I have 1 coupons\n"
     ]
    }
   ],
   "source": [
    "scheduler.process_mail_queue()\n",
    "agent_b.update()"
   ],
   "metadata": {
    "collapsed": false
   }
  }
 ],
 "metadata": {
  "kernelspec": {
   "display_name": "Python 3 (ipykernel)",
   "language": "python",
   "name": "python3"
  },
  "language_info": {
   "codemirror_mode": {
    "name": "ipython",
    "version": 3
   },
   "file_extension": ".py",
   "mimetype": "text/x-python",
   "name": "python",
   "nbconvert_exporter": "python",
   "pygments_lexer": "ipython3",
   "version": "3.9.7"
  }
 },
 "nbformat": 4,
 "nbformat_minor": 1
}
